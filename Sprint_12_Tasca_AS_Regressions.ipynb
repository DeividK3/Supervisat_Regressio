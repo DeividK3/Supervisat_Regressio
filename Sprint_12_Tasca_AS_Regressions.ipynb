{
 "cells": [
  {
   "cell_type": "markdown",
   "metadata": {},
   "source": [
    "# Tasca: Aprenentatge Supervisat - Regressions"
   ]
  },
  {
   "cell_type": "code",
   "execution_count": 1,
   "metadata": {},
   "outputs": [],
   "source": [
    "# Càrrega de llibreries\n",
    "import pandas as pd\n",
    "import numpy as np\n",
    "\n",
    "from sklearn.metrics import mean_squared_error\n",
    " \n",
    "from sklearn.model_selection import train_test_split\n",
    "from sklearn.linear_model import LassoCV\n",
    "from sklearn.linear_model import RidgeCV\n",
    "\n",
    "import scipy.stats as stats\n",
    "import statsmodels.api as sm\n",
    "    \n",
    "pd.set_option('display.max_columns', None)"
   ]
  },
  {
   "cell_type": "code",
   "execution_count": 2,
   "metadata": {},
   "outputs": [
    {
     "data": {
      "text/html": [
       "<div>\n",
       "<style scoped>\n",
       "    .dataframe tbody tr th:only-of-type {\n",
       "        vertical-align: middle;\n",
       "    }\n",
       "\n",
       "    .dataframe tbody tr th {\n",
       "        vertical-align: top;\n",
       "    }\n",
       "\n",
       "    .dataframe thead th {\n",
       "        text-align: right;\n",
       "    }\n",
       "</style>\n",
       "<table border=\"1\" class=\"dataframe\">\n",
       "  <thead>\n",
       "    <tr style=\"text-align: right;\">\n",
       "      <th></th>\n",
       "      <th>Unnamed: 0</th>\n",
       "      <th>Year</th>\n",
       "      <th>Month</th>\n",
       "      <th>DayofMonth</th>\n",
       "      <th>DayOfWeek</th>\n",
       "      <th>DepTime</th>\n",
       "      <th>CRSDepTime</th>\n",
       "      <th>ArrTime</th>\n",
       "      <th>CRSArrTime</th>\n",
       "      <th>UniqueCarrier</th>\n",
       "      <th>FlightNum</th>\n",
       "      <th>TailNum</th>\n",
       "      <th>ActualElapsedTime</th>\n",
       "      <th>CRSElapsedTime</th>\n",
       "      <th>AirTime</th>\n",
       "      <th>ArrDelay</th>\n",
       "      <th>DepDelay</th>\n",
       "      <th>Origin</th>\n",
       "      <th>Dest</th>\n",
       "      <th>Distance</th>\n",
       "      <th>TaxiIn</th>\n",
       "      <th>TaxiOut</th>\n",
       "      <th>Cancelled</th>\n",
       "      <th>CancellationCode</th>\n",
       "      <th>Diverted</th>\n",
       "      <th>CarrierDelay</th>\n",
       "      <th>WeatherDelay</th>\n",
       "      <th>NASDelay</th>\n",
       "      <th>SecurityDelay</th>\n",
       "      <th>LateAircraftDelay</th>\n",
       "    </tr>\n",
       "  </thead>\n",
       "  <tbody>\n",
       "    <tr>\n",
       "      <th>0</th>\n",
       "      <td>0</td>\n",
       "      <td>2008</td>\n",
       "      <td>1</td>\n",
       "      <td>3</td>\n",
       "      <td>4</td>\n",
       "      <td>2003.0</td>\n",
       "      <td>1955</td>\n",
       "      <td>2211.0</td>\n",
       "      <td>2225</td>\n",
       "      <td>WN</td>\n",
       "      <td>335</td>\n",
       "      <td>N712SW</td>\n",
       "      <td>128.0</td>\n",
       "      <td>150.0</td>\n",
       "      <td>116.0</td>\n",
       "      <td>-14.0</td>\n",
       "      <td>8.0</td>\n",
       "      <td>IAD</td>\n",
       "      <td>TPA</td>\n",
       "      <td>810</td>\n",
       "      <td>4.0</td>\n",
       "      <td>8.0</td>\n",
       "      <td>0</td>\n",
       "      <td>N</td>\n",
       "      <td>0</td>\n",
       "      <td>NaN</td>\n",
       "      <td>NaN</td>\n",
       "      <td>NaN</td>\n",
       "      <td>NaN</td>\n",
       "      <td>NaN</td>\n",
       "    </tr>\n",
       "    <tr>\n",
       "      <th>1</th>\n",
       "      <td>1</td>\n",
       "      <td>2008</td>\n",
       "      <td>1</td>\n",
       "      <td>3</td>\n",
       "      <td>4</td>\n",
       "      <td>754.0</td>\n",
       "      <td>735</td>\n",
       "      <td>1002.0</td>\n",
       "      <td>1000</td>\n",
       "      <td>WN</td>\n",
       "      <td>3231</td>\n",
       "      <td>N772SW</td>\n",
       "      <td>128.0</td>\n",
       "      <td>145.0</td>\n",
       "      <td>113.0</td>\n",
       "      <td>2.0</td>\n",
       "      <td>19.0</td>\n",
       "      <td>IAD</td>\n",
       "      <td>TPA</td>\n",
       "      <td>810</td>\n",
       "      <td>5.0</td>\n",
       "      <td>10.0</td>\n",
       "      <td>0</td>\n",
       "      <td>N</td>\n",
       "      <td>0</td>\n",
       "      <td>NaN</td>\n",
       "      <td>NaN</td>\n",
       "      <td>NaN</td>\n",
       "      <td>NaN</td>\n",
       "      <td>NaN</td>\n",
       "    </tr>\n",
       "    <tr>\n",
       "      <th>2</th>\n",
       "      <td>2</td>\n",
       "      <td>2008</td>\n",
       "      <td>1</td>\n",
       "      <td>3</td>\n",
       "      <td>4</td>\n",
       "      <td>628.0</td>\n",
       "      <td>620</td>\n",
       "      <td>804.0</td>\n",
       "      <td>750</td>\n",
       "      <td>WN</td>\n",
       "      <td>448</td>\n",
       "      <td>N428WN</td>\n",
       "      <td>96.0</td>\n",
       "      <td>90.0</td>\n",
       "      <td>76.0</td>\n",
       "      <td>14.0</td>\n",
       "      <td>8.0</td>\n",
       "      <td>IND</td>\n",
       "      <td>BWI</td>\n",
       "      <td>515</td>\n",
       "      <td>3.0</td>\n",
       "      <td>17.0</td>\n",
       "      <td>0</td>\n",
       "      <td>N</td>\n",
       "      <td>0</td>\n",
       "      <td>NaN</td>\n",
       "      <td>NaN</td>\n",
       "      <td>NaN</td>\n",
       "      <td>NaN</td>\n",
       "      <td>NaN</td>\n",
       "    </tr>\n",
       "  </tbody>\n",
       "</table>\n",
       "</div>"
      ],
      "text/plain": [
       "   Unnamed: 0  Year  Month  DayofMonth  DayOfWeek  DepTime  CRSDepTime  \\\n",
       "0           0  2008      1           3          4   2003.0        1955   \n",
       "1           1  2008      1           3          4    754.0         735   \n",
       "2           2  2008      1           3          4    628.0         620   \n",
       "\n",
       "   ArrTime  CRSArrTime UniqueCarrier  FlightNum TailNum  ActualElapsedTime  \\\n",
       "0   2211.0        2225            WN        335  N712SW              128.0   \n",
       "1   1002.0        1000            WN       3231  N772SW              128.0   \n",
       "2    804.0         750            WN        448  N428WN               96.0   \n",
       "\n",
       "   CRSElapsedTime  AirTime  ArrDelay  DepDelay Origin Dest  Distance  TaxiIn  \\\n",
       "0           150.0    116.0     -14.0       8.0    IAD  TPA       810     4.0   \n",
       "1           145.0    113.0       2.0      19.0    IAD  TPA       810     5.0   \n",
       "2            90.0     76.0      14.0       8.0    IND  BWI       515     3.0   \n",
       "\n",
       "   TaxiOut  Cancelled CancellationCode  Diverted  CarrierDelay  WeatherDelay  \\\n",
       "0      8.0          0                N         0           NaN           NaN   \n",
       "1     10.0          0                N         0           NaN           NaN   \n",
       "2     17.0          0                N         0           NaN           NaN   \n",
       "\n",
       "   NASDelay  SecurityDelay  LateAircraftDelay  \n",
       "0       NaN            NaN                NaN  \n",
       "1       NaN            NaN                NaN  \n",
       "2       NaN            NaN                NaN  "
      ]
     },
     "execution_count": 2,
     "metadata": {},
     "output_type": "execute_result"
    }
   ],
   "source": [
    "# Lectura de dades\n",
    "dfl = pd.read_csv('DelayedFlights.csv')\n",
    "dfl[:3]"
   ]
  },
  {
   "cell_type": "code",
   "execution_count": 3,
   "metadata": {},
   "outputs": [],
   "source": [
    "# Es crea una copia del dataset\n",
    "df = dfl.copy()"
   ]
  },
  {
   "cell_type": "code",
   "execution_count": 4,
   "metadata": {},
   "outputs": [
    {
     "data": {
      "text/html": [
       "<div>\n",
       "<style scoped>\n",
       "    .dataframe tbody tr th:only-of-type {\n",
       "        vertical-align: middle;\n",
       "    }\n",
       "\n",
       "    .dataframe tbody tr th {\n",
       "        vertical-align: top;\n",
       "    }\n",
       "\n",
       "    .dataframe thead th {\n",
       "        text-align: right;\n",
       "    }\n",
       "</style>\n",
       "<table border=\"1\" class=\"dataframe\">\n",
       "  <thead>\n",
       "    <tr style=\"text-align: right;\">\n",
       "      <th></th>\n",
       "      <th>Year</th>\n",
       "      <th>Month</th>\n",
       "      <th>DayofMonth</th>\n",
       "      <th>DayOfWeek</th>\n",
       "      <th>DepTime</th>\n",
       "      <th>CRSDepTime</th>\n",
       "      <th>ArrTime</th>\n",
       "      <th>CRSArrTime</th>\n",
       "      <th>UniqueCarrier</th>\n",
       "      <th>FlightNum</th>\n",
       "      <th>TailNum</th>\n",
       "      <th>ActualElapsedTime</th>\n",
       "      <th>CRSElapsedTime</th>\n",
       "      <th>AirTime</th>\n",
       "      <th>ArrDelay</th>\n",
       "      <th>DepDelay</th>\n",
       "      <th>Origin</th>\n",
       "      <th>Dest</th>\n",
       "      <th>Distance</th>\n",
       "      <th>TaxiIn</th>\n",
       "      <th>TaxiOut</th>\n",
       "      <th>Cancelled</th>\n",
       "      <th>CancellationCode</th>\n",
       "      <th>Diverted</th>\n",
       "      <th>CarrierDelay</th>\n",
       "      <th>WeatherDelay</th>\n",
       "      <th>NASDelay</th>\n",
       "      <th>SecurityDelay</th>\n",
       "      <th>LateAircraftDelay</th>\n",
       "    </tr>\n",
       "  </thead>\n",
       "  <tbody>\n",
       "    <tr>\n",
       "      <th>0</th>\n",
       "      <td>2008</td>\n",
       "      <td>1</td>\n",
       "      <td>3</td>\n",
       "      <td>4</td>\n",
       "      <td>2003.0</td>\n",
       "      <td>1955</td>\n",
       "      <td>2211.0</td>\n",
       "      <td>2225</td>\n",
       "      <td>WN</td>\n",
       "      <td>335</td>\n",
       "      <td>N712SW</td>\n",
       "      <td>128.0</td>\n",
       "      <td>150.0</td>\n",
       "      <td>116.0</td>\n",
       "      <td>-14.0</td>\n",
       "      <td>8.0</td>\n",
       "      <td>IAD</td>\n",
       "      <td>TPA</td>\n",
       "      <td>810</td>\n",
       "      <td>4.0</td>\n",
       "      <td>8.0</td>\n",
       "      <td>0</td>\n",
       "      <td>N</td>\n",
       "      <td>0</td>\n",
       "      <td>NaN</td>\n",
       "      <td>NaN</td>\n",
       "      <td>NaN</td>\n",
       "      <td>NaN</td>\n",
       "      <td>NaN</td>\n",
       "    </tr>\n",
       "    <tr>\n",
       "      <th>1</th>\n",
       "      <td>2008</td>\n",
       "      <td>1</td>\n",
       "      <td>3</td>\n",
       "      <td>4</td>\n",
       "      <td>754.0</td>\n",
       "      <td>735</td>\n",
       "      <td>1002.0</td>\n",
       "      <td>1000</td>\n",
       "      <td>WN</td>\n",
       "      <td>3231</td>\n",
       "      <td>N772SW</td>\n",
       "      <td>128.0</td>\n",
       "      <td>145.0</td>\n",
       "      <td>113.0</td>\n",
       "      <td>2.0</td>\n",
       "      <td>19.0</td>\n",
       "      <td>IAD</td>\n",
       "      <td>TPA</td>\n",
       "      <td>810</td>\n",
       "      <td>5.0</td>\n",
       "      <td>10.0</td>\n",
       "      <td>0</td>\n",
       "      <td>N</td>\n",
       "      <td>0</td>\n",
       "      <td>NaN</td>\n",
       "      <td>NaN</td>\n",
       "      <td>NaN</td>\n",
       "      <td>NaN</td>\n",
       "      <td>NaN</td>\n",
       "    </tr>\n",
       "    <tr>\n",
       "      <th>2</th>\n",
       "      <td>2008</td>\n",
       "      <td>1</td>\n",
       "      <td>3</td>\n",
       "      <td>4</td>\n",
       "      <td>628.0</td>\n",
       "      <td>620</td>\n",
       "      <td>804.0</td>\n",
       "      <td>750</td>\n",
       "      <td>WN</td>\n",
       "      <td>448</td>\n",
       "      <td>N428WN</td>\n",
       "      <td>96.0</td>\n",
       "      <td>90.0</td>\n",
       "      <td>76.0</td>\n",
       "      <td>14.0</td>\n",
       "      <td>8.0</td>\n",
       "      <td>IND</td>\n",
       "      <td>BWI</td>\n",
       "      <td>515</td>\n",
       "      <td>3.0</td>\n",
       "      <td>17.0</td>\n",
       "      <td>0</td>\n",
       "      <td>N</td>\n",
       "      <td>0</td>\n",
       "      <td>NaN</td>\n",
       "      <td>NaN</td>\n",
       "      <td>NaN</td>\n",
       "      <td>NaN</td>\n",
       "      <td>NaN</td>\n",
       "    </tr>\n",
       "    <tr>\n",
       "      <th>3</th>\n",
       "      <td>2008</td>\n",
       "      <td>1</td>\n",
       "      <td>3</td>\n",
       "      <td>4</td>\n",
       "      <td>1829.0</td>\n",
       "      <td>1755</td>\n",
       "      <td>1959.0</td>\n",
       "      <td>1925</td>\n",
       "      <td>WN</td>\n",
       "      <td>3920</td>\n",
       "      <td>N464WN</td>\n",
       "      <td>90.0</td>\n",
       "      <td>90.0</td>\n",
       "      <td>77.0</td>\n",
       "      <td>34.0</td>\n",
       "      <td>34.0</td>\n",
       "      <td>IND</td>\n",
       "      <td>BWI</td>\n",
       "      <td>515</td>\n",
       "      <td>3.0</td>\n",
       "      <td>10.0</td>\n",
       "      <td>0</td>\n",
       "      <td>N</td>\n",
       "      <td>0</td>\n",
       "      <td>2.0</td>\n",
       "      <td>0.0</td>\n",
       "      <td>0.0</td>\n",
       "      <td>0.0</td>\n",
       "      <td>32.0</td>\n",
       "    </tr>\n",
       "    <tr>\n",
       "      <th>4</th>\n",
       "      <td>2008</td>\n",
       "      <td>1</td>\n",
       "      <td>3</td>\n",
       "      <td>4</td>\n",
       "      <td>1940.0</td>\n",
       "      <td>1915</td>\n",
       "      <td>2121.0</td>\n",
       "      <td>2110</td>\n",
       "      <td>WN</td>\n",
       "      <td>378</td>\n",
       "      <td>N726SW</td>\n",
       "      <td>101.0</td>\n",
       "      <td>115.0</td>\n",
       "      <td>87.0</td>\n",
       "      <td>11.0</td>\n",
       "      <td>25.0</td>\n",
       "      <td>IND</td>\n",
       "      <td>JAX</td>\n",
       "      <td>688</td>\n",
       "      <td>4.0</td>\n",
       "      <td>10.0</td>\n",
       "      <td>0</td>\n",
       "      <td>N</td>\n",
       "      <td>0</td>\n",
       "      <td>NaN</td>\n",
       "      <td>NaN</td>\n",
       "      <td>NaN</td>\n",
       "      <td>NaN</td>\n",
       "      <td>NaN</td>\n",
       "    </tr>\n",
       "  </tbody>\n",
       "</table>\n",
       "</div>"
      ],
      "text/plain": [
       "   Year  Month  DayofMonth  DayOfWeek  DepTime  CRSDepTime  ArrTime  \\\n",
       "0  2008      1           3          4   2003.0        1955   2211.0   \n",
       "1  2008      1           3          4    754.0         735   1002.0   \n",
       "2  2008      1           3          4    628.0         620    804.0   \n",
       "3  2008      1           3          4   1829.0        1755   1959.0   \n",
       "4  2008      1           3          4   1940.0        1915   2121.0   \n",
       "\n",
       "   CRSArrTime UniqueCarrier  FlightNum TailNum  ActualElapsedTime  \\\n",
       "0        2225            WN        335  N712SW              128.0   \n",
       "1        1000            WN       3231  N772SW              128.0   \n",
       "2         750            WN        448  N428WN               96.0   \n",
       "3        1925            WN       3920  N464WN               90.0   \n",
       "4        2110            WN        378  N726SW              101.0   \n",
       "\n",
       "   CRSElapsedTime  AirTime  ArrDelay  DepDelay Origin Dest  Distance  TaxiIn  \\\n",
       "0           150.0    116.0     -14.0       8.0    IAD  TPA       810     4.0   \n",
       "1           145.0    113.0       2.0      19.0    IAD  TPA       810     5.0   \n",
       "2            90.0     76.0      14.0       8.0    IND  BWI       515     3.0   \n",
       "3            90.0     77.0      34.0      34.0    IND  BWI       515     3.0   \n",
       "4           115.0     87.0      11.0      25.0    IND  JAX       688     4.0   \n",
       "\n",
       "   TaxiOut  Cancelled CancellationCode  Diverted  CarrierDelay  WeatherDelay  \\\n",
       "0      8.0          0                N         0           NaN           NaN   \n",
       "1     10.0          0                N         0           NaN           NaN   \n",
       "2     17.0          0                N         0           NaN           NaN   \n",
       "3     10.0          0                N         0           2.0           0.0   \n",
       "4     10.0          0                N         0           NaN           NaN   \n",
       "\n",
       "   NASDelay  SecurityDelay  LateAircraftDelay  \n",
       "0       NaN            NaN                NaN  \n",
       "1       NaN            NaN                NaN  \n",
       "2       NaN            NaN                NaN  \n",
       "3       0.0            0.0               32.0  \n",
       "4       NaN            NaN                NaN  "
      ]
     },
     "execution_count": 4,
     "metadata": {},
     "output_type": "execute_result"
    }
   ],
   "source": [
    "# S'elimina la primera columna\n",
    "df = df.drop(df.columns[0],axis=1)\n",
    "df.head()"
   ]
  },
  {
   "cell_type": "code",
   "execution_count": 5,
   "metadata": {},
   "outputs": [
    {
     "data": {
      "text/plain": [
       "(1936758, 29)"
      ]
     },
     "execution_count": 5,
     "metadata": {},
     "output_type": "execute_result"
    }
   ],
   "source": [
    "# Dimensió del dataset\n",
    "df.shape"
   ]
  },
  {
   "cell_type": "markdown",
   "metadata": {},
   "source": [
    "<span style='color:blue;font-size:20px'> <b> Depuració de dades </b> </span>"
   ]
  },
  {
   "cell_type": "code",
   "execution_count": 6,
   "metadata": {
    "scrolled": false
   },
   "outputs": [
    {
     "data": {
      "text/plain": [
       "Year                      0\n",
       "Month                     0\n",
       "DayofMonth                0\n",
       "DayOfWeek                 0\n",
       "DepTime                   0\n",
       "CRSDepTime                0\n",
       "ArrTime                7110\n",
       "CRSArrTime                0\n",
       "UniqueCarrier             0\n",
       "FlightNum                 0\n",
       "TailNum                   5\n",
       "ActualElapsedTime      8387\n",
       "CRSElapsedTime          198\n",
       "AirTime                8387\n",
       "ArrDelay               8387\n",
       "DepDelay                  0\n",
       "Origin                    0\n",
       "Dest                      0\n",
       "Distance                  0\n",
       "TaxiIn                 7110\n",
       "TaxiOut                 455\n",
       "Cancelled                 0\n",
       "CancellationCode          0\n",
       "Diverted                  0\n",
       "CarrierDelay         689270\n",
       "WeatherDelay         689270\n",
       "NASDelay             689270\n",
       "SecurityDelay        689270\n",
       "LateAircraftDelay    689270\n",
       "dtype: int64"
      ]
     },
     "execution_count": 6,
     "metadata": {},
     "output_type": "execute_result"
    }
   ],
   "source": [
    "# Quantitat de null de cada variable\n",
    "df.isna().sum()"
   ]
  },
  {
   "cell_type": "code",
   "execution_count": 7,
   "metadata": {},
   "outputs": [],
   "source": [
    "# S'eliminen les columnes amb més de 500000 valors nuls\n",
    "df_2 = df.drop(['CarrierDelay', 'WeatherDelay', 'NASDelay', 'SecurityDelay', 'LateAircraftDelay'], axis=1)"
   ]
  },
  {
   "cell_type": "code",
   "execution_count": 8,
   "metadata": {},
   "outputs": [
    {
     "data": {
      "text/plain": [
       "Year                 0\n",
       "Month                0\n",
       "DayofMonth           0\n",
       "DayOfWeek            0\n",
       "DepTime              0\n",
       "CRSDepTime           0\n",
       "ArrTime              0\n",
       "CRSArrTime           0\n",
       "UniqueCarrier        0\n",
       "FlightNum            0\n",
       "TailNum              0\n",
       "ActualElapsedTime    0\n",
       "CRSElapsedTime       0\n",
       "AirTime              0\n",
       "ArrDelay             0\n",
       "DepDelay             0\n",
       "Origin               0\n",
       "Dest                 0\n",
       "Distance             0\n",
       "TaxiIn               0\n",
       "TaxiOut              0\n",
       "Cancelled            0\n",
       "CancellationCode     0\n",
       "Diverted             0\n",
       "dtype: int64"
      ]
     },
     "execution_count": 8,
     "metadata": {},
     "output_type": "execute_result"
    }
   ],
   "source": [
    "# S'eliminen totes les observacions amb algun registre nul\n",
    "df_2 = df_2.dropna(axis=0, how='any')\n",
    "df_2.isna().sum()"
   ]
  },
  {
   "cell_type": "code",
   "execution_count": 9,
   "metadata": {},
   "outputs": [
    {
     "data": {
      "text/plain": [
       "(1928368, 24)"
      ]
     },
     "execution_count": 9,
     "metadata": {},
     "output_type": "execute_result"
    }
   ],
   "source": [
    "df_2.shape"
   ]
  },
  {
   "cell_type": "markdown",
   "metadata": {},
   "source": [
    "<span style='color:blue;font-size:20px'> <b> Eliminació de variables </b> </span>"
   ]
  },
  {
   "cell_type": "code",
   "execution_count": 10,
   "metadata": {},
   "outputs": [
    {
     "data": {
      "text/html": [
       "<div>\n",
       "<style scoped>\n",
       "    .dataframe tbody tr th:only-of-type {\n",
       "        vertical-align: middle;\n",
       "    }\n",
       "\n",
       "    .dataframe tbody tr th {\n",
       "        vertical-align: top;\n",
       "    }\n",
       "\n",
       "    .dataframe thead th {\n",
       "        text-align: right;\n",
       "    }\n",
       "</style>\n",
       "<table border=\"1\" class=\"dataframe\">\n",
       "  <thead>\n",
       "    <tr style=\"text-align: right;\">\n",
       "      <th></th>\n",
       "      <th>Year</th>\n",
       "      <th>Month</th>\n",
       "      <th>DayofMonth</th>\n",
       "      <th>DayOfWeek</th>\n",
       "      <th>DepTime</th>\n",
       "      <th>CRSDepTime</th>\n",
       "      <th>ArrTime</th>\n",
       "      <th>CRSArrTime</th>\n",
       "      <th>FlightNum</th>\n",
       "      <th>ActualElapsedTime</th>\n",
       "      <th>CRSElapsedTime</th>\n",
       "      <th>AirTime</th>\n",
       "      <th>ArrDelay</th>\n",
       "      <th>DepDelay</th>\n",
       "      <th>Distance</th>\n",
       "      <th>TaxiIn</th>\n",
       "      <th>TaxiOut</th>\n",
       "      <th>Cancelled</th>\n",
       "      <th>Diverted</th>\n",
       "    </tr>\n",
       "  </thead>\n",
       "  <tbody>\n",
       "    <tr>\n",
       "      <th>count</th>\n",
       "      <td>1928368.0</td>\n",
       "      <td>1928368.000</td>\n",
       "      <td>1928368.000</td>\n",
       "      <td>1928368.000</td>\n",
       "      <td>1928368.000</td>\n",
       "      <td>1928368.000</td>\n",
       "      <td>1928368.000</td>\n",
       "      <td>1928368.000</td>\n",
       "      <td>1928368.000</td>\n",
       "      <td>1928368.000</td>\n",
       "      <td>1928368.000</td>\n",
       "      <td>1928368.000</td>\n",
       "      <td>1928368.000</td>\n",
       "      <td>1928368.000</td>\n",
       "      <td>1928368.000</td>\n",
       "      <td>1928368.000</td>\n",
       "      <td>1928368.000</td>\n",
       "      <td>1928368.0</td>\n",
       "      <td>1928368.0</td>\n",
       "    </tr>\n",
       "    <tr>\n",
       "      <th>mean</th>\n",
       "      <td>2008.0</td>\n",
       "      <td>6.108</td>\n",
       "      <td>15.752</td>\n",
       "      <td>3.985</td>\n",
       "      <td>1518.648</td>\n",
       "      <td>1467.717</td>\n",
       "      <td>1610.242</td>\n",
       "      <td>1634.196</td>\n",
       "      <td>2184.292</td>\n",
       "      <td>133.306</td>\n",
       "      <td>134.198</td>\n",
       "      <td>108.277</td>\n",
       "      <td>42.200</td>\n",
       "      <td>43.092</td>\n",
       "      <td>764.949</td>\n",
       "      <td>6.811</td>\n",
       "      <td>18.217</td>\n",
       "      <td>0.0</td>\n",
       "      <td>0.0</td>\n",
       "    </tr>\n",
       "    <tr>\n",
       "      <th>std</th>\n",
       "      <td>0.0</td>\n",
       "      <td>3.481</td>\n",
       "      <td>8.777</td>\n",
       "      <td>1.996</td>\n",
       "      <td>450.436</td>\n",
       "      <td>424.728</td>\n",
       "      <td>548.001</td>\n",
       "      <td>464.629</td>\n",
       "      <td>1944.448</td>\n",
       "      <td>72.060</td>\n",
       "      <td>71.233</td>\n",
       "      <td>68.643</td>\n",
       "      <td>56.784</td>\n",
       "      <td>53.266</td>\n",
       "      <td>573.886</td>\n",
       "      <td>5.268</td>\n",
       "      <td>14.308</td>\n",
       "      <td>0.0</td>\n",
       "      <td>0.0</td>\n",
       "    </tr>\n",
       "    <tr>\n",
       "      <th>min</th>\n",
       "      <td>2008.0</td>\n",
       "      <td>1.000</td>\n",
       "      <td>1.000</td>\n",
       "      <td>1.000</td>\n",
       "      <td>1.000</td>\n",
       "      <td>0.000</td>\n",
       "      <td>1.000</td>\n",
       "      <td>0.000</td>\n",
       "      <td>1.000</td>\n",
       "      <td>14.000</td>\n",
       "      <td>-21.000</td>\n",
       "      <td>0.000</td>\n",
       "      <td>-109.000</td>\n",
       "      <td>6.000</td>\n",
       "      <td>11.000</td>\n",
       "      <td>0.000</td>\n",
       "      <td>0.000</td>\n",
       "      <td>0.0</td>\n",
       "      <td>0.0</td>\n",
       "    </tr>\n",
       "    <tr>\n",
       "      <th>25%</th>\n",
       "      <td>2008.0</td>\n",
       "      <td>3.000</td>\n",
       "      <td>8.000</td>\n",
       "      <td>2.000</td>\n",
       "      <td>1203.000</td>\n",
       "      <td>1135.000</td>\n",
       "      <td>1316.000</td>\n",
       "      <td>1325.000</td>\n",
       "      <td>611.000</td>\n",
       "      <td>80.000</td>\n",
       "      <td>82.000</td>\n",
       "      <td>58.000</td>\n",
       "      <td>9.000</td>\n",
       "      <td>12.000</td>\n",
       "      <td>338.000</td>\n",
       "      <td>4.000</td>\n",
       "      <td>10.000</td>\n",
       "      <td>0.0</td>\n",
       "      <td>0.0</td>\n",
       "    </tr>\n",
       "    <tr>\n",
       "      <th>50%</th>\n",
       "      <td>2008.0</td>\n",
       "      <td>6.000</td>\n",
       "      <td>16.000</td>\n",
       "      <td>4.000</td>\n",
       "      <td>1545.000</td>\n",
       "      <td>1510.000</td>\n",
       "      <td>1715.000</td>\n",
       "      <td>1705.000</td>\n",
       "      <td>1543.000</td>\n",
       "      <td>116.000</td>\n",
       "      <td>116.000</td>\n",
       "      <td>90.000</td>\n",
       "      <td>24.000</td>\n",
       "      <td>24.000</td>\n",
       "      <td>606.000</td>\n",
       "      <td>6.000</td>\n",
       "      <td>14.000</td>\n",
       "      <td>0.0</td>\n",
       "      <td>0.0</td>\n",
       "    </tr>\n",
       "    <tr>\n",
       "      <th>75%</th>\n",
       "      <td>2008.0</td>\n",
       "      <td>9.000</td>\n",
       "      <td>23.000</td>\n",
       "      <td>6.000</td>\n",
       "      <td>1900.000</td>\n",
       "      <td>1815.000</td>\n",
       "      <td>2030.000</td>\n",
       "      <td>2014.000</td>\n",
       "      <td>3423.000</td>\n",
       "      <td>165.000</td>\n",
       "      <td>165.000</td>\n",
       "      <td>137.000</td>\n",
       "      <td>56.000</td>\n",
       "      <td>53.000</td>\n",
       "      <td>997.000</td>\n",
       "      <td>8.000</td>\n",
       "      <td>21.000</td>\n",
       "      <td>0.0</td>\n",
       "      <td>0.0</td>\n",
       "    </tr>\n",
       "    <tr>\n",
       "      <th>max</th>\n",
       "      <td>2008.0</td>\n",
       "      <td>12.000</td>\n",
       "      <td>31.000</td>\n",
       "      <td>7.000</td>\n",
       "      <td>2400.000</td>\n",
       "      <td>2359.000</td>\n",
       "      <td>2400.000</td>\n",
       "      <td>2359.000</td>\n",
       "      <td>9741.000</td>\n",
       "      <td>1114.000</td>\n",
       "      <td>660.000</td>\n",
       "      <td>1091.000</td>\n",
       "      <td>2461.000</td>\n",
       "      <td>2467.000</td>\n",
       "      <td>4962.000</td>\n",
       "      <td>240.000</td>\n",
       "      <td>422.000</td>\n",
       "      <td>0.0</td>\n",
       "      <td>0.0</td>\n",
       "    </tr>\n",
       "  </tbody>\n",
       "</table>\n",
       "</div>"
      ],
      "text/plain": [
       "            Year        Month   DayofMonth    DayOfWeek      DepTime  \\\n",
       "count  1928368.0  1928368.000  1928368.000  1928368.000  1928368.000   \n",
       "mean      2008.0        6.108       15.752        3.985     1518.648   \n",
       "std          0.0        3.481        8.777        1.996      450.436   \n",
       "min       2008.0        1.000        1.000        1.000        1.000   \n",
       "25%       2008.0        3.000        8.000        2.000     1203.000   \n",
       "50%       2008.0        6.000       16.000        4.000     1545.000   \n",
       "75%       2008.0        9.000       23.000        6.000     1900.000   \n",
       "max       2008.0       12.000       31.000        7.000     2400.000   \n",
       "\n",
       "        CRSDepTime      ArrTime   CRSArrTime    FlightNum  ActualElapsedTime  \\\n",
       "count  1928368.000  1928368.000  1928368.000  1928368.000        1928368.000   \n",
       "mean      1467.717     1610.242     1634.196     2184.292            133.306   \n",
       "std        424.728      548.001      464.629     1944.448             72.060   \n",
       "min          0.000        1.000        0.000        1.000             14.000   \n",
       "25%       1135.000     1316.000     1325.000      611.000             80.000   \n",
       "50%       1510.000     1715.000     1705.000     1543.000            116.000   \n",
       "75%       1815.000     2030.000     2014.000     3423.000            165.000   \n",
       "max       2359.000     2400.000     2359.000     9741.000           1114.000   \n",
       "\n",
       "       CRSElapsedTime      AirTime     ArrDelay     DepDelay     Distance  \\\n",
       "count     1928368.000  1928368.000  1928368.000  1928368.000  1928368.000   \n",
       "mean          134.198      108.277       42.200       43.092      764.949   \n",
       "std            71.233       68.643       56.784       53.266      573.886   \n",
       "min           -21.000        0.000     -109.000        6.000       11.000   \n",
       "25%            82.000       58.000        9.000       12.000      338.000   \n",
       "50%           116.000       90.000       24.000       24.000      606.000   \n",
       "75%           165.000      137.000       56.000       53.000      997.000   \n",
       "max           660.000     1091.000     2461.000     2467.000     4962.000   \n",
       "\n",
       "            TaxiIn      TaxiOut  Cancelled   Diverted  \n",
       "count  1928368.000  1928368.000  1928368.0  1928368.0  \n",
       "mean         6.811       18.217        0.0        0.0  \n",
       "std          5.268       14.308        0.0        0.0  \n",
       "min          0.000        0.000        0.0        0.0  \n",
       "25%          4.000       10.000        0.0        0.0  \n",
       "50%          6.000       14.000        0.0        0.0  \n",
       "75%          8.000       21.000        0.0        0.0  \n",
       "max        240.000      422.000        0.0        0.0  "
      ]
     },
     "execution_count": 10,
     "metadata": {},
     "output_type": "execute_result"
    }
   ],
   "source": [
    "# Descriptiu de les variables numèriques\n",
    "df_2.describe().round(3)"
   ]
  },
  {
   "cell_type": "code",
   "execution_count": 11,
   "metadata": {},
   "outputs": [
    {
     "data": {
      "text/html": [
       "<div>\n",
       "<style scoped>\n",
       "    .dataframe tbody tr th:only-of-type {\n",
       "        vertical-align: middle;\n",
       "    }\n",
       "\n",
       "    .dataframe tbody tr th {\n",
       "        vertical-align: top;\n",
       "    }\n",
       "\n",
       "    .dataframe thead th {\n",
       "        text-align: right;\n",
       "    }\n",
       "</style>\n",
       "<table border=\"1\" class=\"dataframe\">\n",
       "  <thead>\n",
       "    <tr style=\"text-align: right;\">\n",
       "      <th></th>\n",
       "      <th>UniqueCarrier</th>\n",
       "      <th>TailNum</th>\n",
       "      <th>Origin</th>\n",
       "      <th>Dest</th>\n",
       "      <th>CancellationCode</th>\n",
       "    </tr>\n",
       "  </thead>\n",
       "  <tbody>\n",
       "    <tr>\n",
       "      <th>count</th>\n",
       "      <td>1928368</td>\n",
       "      <td>1928368</td>\n",
       "      <td>1928368</td>\n",
       "      <td>1928368</td>\n",
       "      <td>1928368</td>\n",
       "    </tr>\n",
       "    <tr>\n",
       "      <th>unique</th>\n",
       "      <td>20</td>\n",
       "      <td>5360</td>\n",
       "      <td>303</td>\n",
       "      <td>302</td>\n",
       "      <td>1</td>\n",
       "    </tr>\n",
       "    <tr>\n",
       "      <th>top</th>\n",
       "      <td>WN</td>\n",
       "      <td>N325SW</td>\n",
       "      <td>ATL</td>\n",
       "      <td>ORD</td>\n",
       "      <td>N</td>\n",
       "    </tr>\n",
       "    <tr>\n",
       "      <th>freq</th>\n",
       "      <td>376201</td>\n",
       "      <td>961</td>\n",
       "      <td>131213</td>\n",
       "      <td>108265</td>\n",
       "      <td>1928368</td>\n",
       "    </tr>\n",
       "  </tbody>\n",
       "</table>\n",
       "</div>"
      ],
      "text/plain": [
       "       UniqueCarrier  TailNum   Origin     Dest CancellationCode\n",
       "count        1928368  1928368  1928368  1928368          1928368\n",
       "unique            20     5360      303      302                1\n",
       "top               WN   N325SW      ATL      ORD                N\n",
       "freq          376201      961   131213   108265          1928368"
      ]
     },
     "execution_count": 11,
     "metadata": {},
     "output_type": "execute_result"
    }
   ],
   "source": [
    "# Descriptiu de les variables categòriques\n",
    "df_2.describe(include='object')"
   ]
  },
  {
   "cell_type": "code",
   "execution_count": 12,
   "metadata": {},
   "outputs": [
    {
     "data": {
      "text/plain": [
       "7498"
      ]
     },
     "execution_count": 12,
     "metadata": {},
     "output_type": "execute_result"
    }
   ],
   "source": [
    "# La variable 'FlightNum' es tracta d'una variable categòrica encara que s'hagi importat com a numèrica.\n",
    "# Es calcula el nombre de categories de la variable\n",
    "len(df_2['FlightNum'].unique())"
   ]
  },
  {
   "cell_type": "code",
   "execution_count": 13,
   "metadata": {},
   "outputs": [],
   "source": [
    "# S'eliminen les variables categòriques DayofMonth, TailNum, Origin, Dest i FlightNum per tenir moltes categories.\n",
    "df_2 = df_2.drop(['TailNum', 'Origin', 'Dest', 'DayofMonth','FlightNum'], axis=1)"
   ]
  },
  {
   "cell_type": "code",
   "execution_count": 14,
   "metadata": {
    "scrolled": false
   },
   "outputs": [],
   "source": [
    "# S'eliminen les variables Cancelled, Diverted, CancellationCode i Year porquè només tenen un únic valor.\n",
    "df_2 = df_2.drop(['Year', 'Cancelled', 'Diverted', 'CancellationCode'], axis=1)"
   ]
  },
  {
   "cell_type": "code",
   "execution_count": 15,
   "metadata": {},
   "outputs": [],
   "source": [
    "# S'eliminen les variables DepTime, CRSDepTime, ArrTime i CRSArrTime perquè indiquen l'hora d'un esdeveniment.\n",
    "df_2 = df_2.drop(['DepTime', 'CRSDepTime', 'ArrTime', 'CRSArrTime'], axis=1)"
   ]
  },
  {
   "cell_type": "code",
   "execution_count": 16,
   "metadata": {},
   "outputs": [],
   "source": [
    "# S'eliminen les variables CRSElapsedTime i DayOfWeek perquè es considera que no serveixen per predir la variable objectiu 'ArrDelay'.\n",
    "df_2 = df_2.drop(['DayOfWeek', 'CRSElapsedTime'], axis=1)"
   ]
  },
  {
   "cell_type": "code",
   "execution_count": 17,
   "metadata": {},
   "outputs": [
    {
     "data": {
      "text/plain": [
       "0.06813024884504432"
      ]
     },
     "execution_count": 17,
     "metadata": {},
     "output_type": "execute_result"
    }
   ],
   "source": [
    "# Correlació lineal entre ArrDelay i ActualElapsedTime\n",
    "df_2['ArrDelay'].corr(df_2['ActualElapsedTime'])"
   ]
  },
  {
   "cell_type": "code",
   "execution_count": 18,
   "metadata": {},
   "outputs": [],
   "source": [
    "# S'elimina la variable ActualElapsedTime perquè no està correlacionada linealment amb la variable objectiu ArrDelay\n",
    "df_2 = df_2.drop(['ActualElapsedTime'], axis=1)"
   ]
  },
  {
   "cell_type": "code",
   "execution_count": 19,
   "metadata": {},
   "outputs": [],
   "source": [
    "# Es crea una copia\n",
    "df_3 = df_2.copy()"
   ]
  },
  {
   "cell_type": "code",
   "execution_count": 20,
   "metadata": {},
   "outputs": [
    {
     "data": {
      "text/html": [
       "<div>\n",
       "<style scoped>\n",
       "    .dataframe tbody tr th:only-of-type {\n",
       "        vertical-align: middle;\n",
       "    }\n",
       "\n",
       "    .dataframe tbody tr th {\n",
       "        vertical-align: top;\n",
       "    }\n",
       "\n",
       "    .dataframe thead th {\n",
       "        text-align: right;\n",
       "    }\n",
       "</style>\n",
       "<table border=\"1\" class=\"dataframe\">\n",
       "  <thead>\n",
       "    <tr style=\"text-align: right;\">\n",
       "      <th></th>\n",
       "      <th>Month</th>\n",
       "      <th>UniqueCarrier</th>\n",
       "      <th>AirTime</th>\n",
       "      <th>ArrDelay</th>\n",
       "      <th>DepDelay</th>\n",
       "      <th>Distance</th>\n",
       "      <th>TaxiIn</th>\n",
       "      <th>TaxiOut</th>\n",
       "    </tr>\n",
       "  </thead>\n",
       "  <tbody>\n",
       "    <tr>\n",
       "      <th>0</th>\n",
       "      <td>1</td>\n",
       "      <td>WN</td>\n",
       "      <td>116.0</td>\n",
       "      <td>-14.0</td>\n",
       "      <td>8.0</td>\n",
       "      <td>810</td>\n",
       "      <td>4.0</td>\n",
       "      <td>8.0</td>\n",
       "    </tr>\n",
       "    <tr>\n",
       "      <th>1</th>\n",
       "      <td>1</td>\n",
       "      <td>WN</td>\n",
       "      <td>113.0</td>\n",
       "      <td>2.0</td>\n",
       "      <td>19.0</td>\n",
       "      <td>810</td>\n",
       "      <td>5.0</td>\n",
       "      <td>10.0</td>\n",
       "    </tr>\n",
       "    <tr>\n",
       "      <th>2</th>\n",
       "      <td>1</td>\n",
       "      <td>WN</td>\n",
       "      <td>76.0</td>\n",
       "      <td>14.0</td>\n",
       "      <td>8.0</td>\n",
       "      <td>515</td>\n",
       "      <td>3.0</td>\n",
       "      <td>17.0</td>\n",
       "    </tr>\n",
       "    <tr>\n",
       "      <th>3</th>\n",
       "      <td>1</td>\n",
       "      <td>WN</td>\n",
       "      <td>77.0</td>\n",
       "      <td>34.0</td>\n",
       "      <td>34.0</td>\n",
       "      <td>515</td>\n",
       "      <td>3.0</td>\n",
       "      <td>10.0</td>\n",
       "    </tr>\n",
       "    <tr>\n",
       "      <th>4</th>\n",
       "      <td>1</td>\n",
       "      <td>WN</td>\n",
       "      <td>87.0</td>\n",
       "      <td>11.0</td>\n",
       "      <td>25.0</td>\n",
       "      <td>688</td>\n",
       "      <td>4.0</td>\n",
       "      <td>10.0</td>\n",
       "    </tr>\n",
       "  </tbody>\n",
       "</table>\n",
       "</div>"
      ],
      "text/plain": [
       "   Month UniqueCarrier  AirTime  ArrDelay  DepDelay  Distance  TaxiIn  TaxiOut\n",
       "0      1            WN    116.0     -14.0       8.0       810     4.0      8.0\n",
       "1      1            WN    113.0       2.0      19.0       810     5.0     10.0\n",
       "2      1            WN     76.0      14.0       8.0       515     3.0     17.0\n",
       "3      1            WN     77.0      34.0      34.0       515     3.0     10.0\n",
       "4      1            WN     87.0      11.0      25.0       688     4.0     10.0"
      ]
     },
     "execution_count": 20,
     "metadata": {},
     "output_type": "execute_result"
    }
   ],
   "source": [
    "# Dataset fins el moment\n",
    "df_3.head()"
   ]
  },
  {
   "cell_type": "markdown",
   "metadata": {},
   "source": [
    "<span style='color:blue;font-size:20px'> <b> Selecció de la mostra </b> </span>"
   ]
  },
  {
   "cell_type": "code",
   "execution_count": 21,
   "metadata": {},
   "outputs": [
    {
     "data": {
      "text/plain": [
       "(1928368, 8)"
      ]
     },
     "execution_count": 21,
     "metadata": {},
     "output_type": "execute_result"
    }
   ],
   "source": [
    "df_3.shape"
   ]
  },
  {
   "cell_type": "markdown",
   "metadata": {},
   "source": [
    "<span style='color:blue;font-size:15px'> Com que la base de dades és massa gran, es decideix obtenir una mostra de 10000 observacions. El métode de mostreig escollit és l'aleatori simple, encara que caldria estudiar si alguna de les variables restants serviria per a estratificar la mostra. </span>"
   ]
  },
  {
   "cell_type": "code",
   "execution_count": 22,
   "metadata": {},
   "outputs": [],
   "source": [
    "# Mostra aleatoria simple de 10000 observacions\n",
    "k = 10000\n",
    "dfs = df_3.sample(k,random_state=1234)"
   ]
  },
  {
   "cell_type": "markdown",
   "metadata": {},
   "source": [
    "<span style='color:blue;font-size:20px'> <b> Creació de noves variables </b> </span>"
   ]
  },
  {
   "cell_type": "code",
   "execution_count": 23,
   "metadata": {},
   "outputs": [
    {
     "data": {
      "text/html": [
       "<div>\n",
       "<style scoped>\n",
       "    .dataframe tbody tr th:only-of-type {\n",
       "        vertical-align: middle;\n",
       "    }\n",
       "\n",
       "    .dataframe tbody tr th {\n",
       "        vertical-align: top;\n",
       "    }\n",
       "\n",
       "    .dataframe thead th {\n",
       "        text-align: right;\n",
       "    }\n",
       "</style>\n",
       "<table border=\"1\" class=\"dataframe\">\n",
       "  <thead>\n",
       "    <tr style=\"text-align: right;\">\n",
       "      <th></th>\n",
       "      <th>Month</th>\n",
       "      <th>UniqueCarrier</th>\n",
       "      <th>AirTime</th>\n",
       "      <th>ArrDelay</th>\n",
       "      <th>DepDelay</th>\n",
       "      <th>Distance</th>\n",
       "      <th>TaxiIn</th>\n",
       "      <th>TaxiOut</th>\n",
       "      <th>VelMitja</th>\n",
       "    </tr>\n",
       "  </thead>\n",
       "  <tbody>\n",
       "    <tr>\n",
       "      <th>276255</th>\n",
       "      <td>2</td>\n",
       "      <td>US</td>\n",
       "      <td>98.0</td>\n",
       "      <td>21.0</td>\n",
       "      <td>31.0</td>\n",
       "      <td>728</td>\n",
       "      <td>7.0</td>\n",
       "      <td>12.0</td>\n",
       "      <td>445.71</td>\n",
       "    </tr>\n",
       "    <tr>\n",
       "      <th>1253643</th>\n",
       "      <td>7</td>\n",
       "      <td>CO</td>\n",
       "      <td>191.0</td>\n",
       "      <td>0.0</td>\n",
       "      <td>6.0</td>\n",
       "      <td>1417</td>\n",
       "      <td>8.0</td>\n",
       "      <td>24.0</td>\n",
       "      <td>445.13</td>\n",
       "    </tr>\n",
       "    <tr>\n",
       "      <th>607829</th>\n",
       "      <td>4</td>\n",
       "      <td>XE</td>\n",
       "      <td>30.0</td>\n",
       "      <td>72.0</td>\n",
       "      <td>47.0</td>\n",
       "      <td>143</td>\n",
       "      <td>4.0</td>\n",
       "      <td>65.0</td>\n",
       "      <td>286.00</td>\n",
       "    </tr>\n",
       "    <tr>\n",
       "      <th>1059724</th>\n",
       "      <td>6</td>\n",
       "      <td>AS</td>\n",
       "      <td>33.0</td>\n",
       "      <td>45.0</td>\n",
       "      <td>34.0</td>\n",
       "      <td>95</td>\n",
       "      <td>3.0</td>\n",
       "      <td>17.0</td>\n",
       "      <td>172.73</td>\n",
       "    </tr>\n",
       "    <tr>\n",
       "      <th>407269</th>\n",
       "      <td>3</td>\n",
       "      <td>WN</td>\n",
       "      <td>72.0</td>\n",
       "      <td>18.0</td>\n",
       "      <td>21.0</td>\n",
       "      <td>397</td>\n",
       "      <td>3.0</td>\n",
       "      <td>12.0</td>\n",
       "      <td>330.83</td>\n",
       "    </tr>\n",
       "  </tbody>\n",
       "</table>\n",
       "</div>"
      ],
      "text/plain": [
       "         Month UniqueCarrier  AirTime  ArrDelay  DepDelay  Distance  TaxiIn  \\\n",
       "276255       2            US     98.0      21.0      31.0       728     7.0   \n",
       "1253643      7            CO    191.0       0.0       6.0      1417     8.0   \n",
       "607829       4            XE     30.0      72.0      47.0       143     4.0   \n",
       "1059724      6            AS     33.0      45.0      34.0        95     3.0   \n",
       "407269       3            WN     72.0      18.0      21.0       397     3.0   \n",
       "\n",
       "         TaxiOut  VelMitja  \n",
       "276255      12.0    445.71  \n",
       "1253643     24.0    445.13  \n",
       "607829      65.0    286.00  \n",
       "1059724     17.0    172.73  \n",
       "407269      12.0    330.83  "
      ]
     },
     "execution_count": 23,
     "metadata": {},
     "output_type": "execute_result"
    }
   ],
   "source": [
    "# Variable Velocitat Mitja, que és la divisió entre la distancia (en milles) i el temps (en hores).\n",
    "dfs['VelMitja'] = round(dfs['Distance']/(dfs['AirTime']/60),2)\n",
    "dfs.head()"
   ]
  },
  {
   "cell_type": "code",
   "execution_count": 24,
   "metadata": {},
   "outputs": [],
   "source": [
    "# S'eliminen les variables AirTime i Distance.\n",
    "dfs = dfs.drop(['AirTime','Distance'],axis=1)"
   ]
  },
  {
   "cell_type": "code",
   "execution_count": 25,
   "metadata": {},
   "outputs": [
    {
     "data": {
      "text/html": [
       "<div>\n",
       "<style scoped>\n",
       "    .dataframe tbody tr th:only-of-type {\n",
       "        vertical-align: middle;\n",
       "    }\n",
       "\n",
       "    .dataframe tbody tr th {\n",
       "        vertical-align: top;\n",
       "    }\n",
       "\n",
       "    .dataframe thead th {\n",
       "        text-align: right;\n",
       "    }\n",
       "</style>\n",
       "<table border=\"1\" class=\"dataframe\">\n",
       "  <thead>\n",
       "    <tr style=\"text-align: right;\">\n",
       "      <th></th>\n",
       "      <th>Month</th>\n",
       "      <th>Trimestre</th>\n",
       "    </tr>\n",
       "  </thead>\n",
       "  <tbody>\n",
       "    <tr>\n",
       "      <th>276255</th>\n",
       "      <td>2</td>\n",
       "      <td>Trim_1</td>\n",
       "    </tr>\n",
       "    <tr>\n",
       "      <th>1253643</th>\n",
       "      <td>7</td>\n",
       "      <td>Trim_3</td>\n",
       "    </tr>\n",
       "    <tr>\n",
       "      <th>607829</th>\n",
       "      <td>4</td>\n",
       "      <td>Trim_2</td>\n",
       "    </tr>\n",
       "    <tr>\n",
       "      <th>1059724</th>\n",
       "      <td>6</td>\n",
       "      <td>Trim_2</td>\n",
       "    </tr>\n",
       "    <tr>\n",
       "      <th>407269</th>\n",
       "      <td>3</td>\n",
       "      <td>Trim_1</td>\n",
       "    </tr>\n",
       "    <tr>\n",
       "      <th>...</th>\n",
       "      <td>...</td>\n",
       "      <td>...</td>\n",
       "    </tr>\n",
       "    <tr>\n",
       "      <th>1136053</th>\n",
       "      <td>7</td>\n",
       "      <td>Trim_3</td>\n",
       "    </tr>\n",
       "    <tr>\n",
       "      <th>1389963</th>\n",
       "      <td>8</td>\n",
       "      <td>Trim_3</td>\n",
       "    </tr>\n",
       "    <tr>\n",
       "      <th>1668722</th>\n",
       "      <td>11</td>\n",
       "      <td>Trim_4</td>\n",
       "    </tr>\n",
       "    <tr>\n",
       "      <th>1726767</th>\n",
       "      <td>11</td>\n",
       "      <td>Trim_4</td>\n",
       "    </tr>\n",
       "    <tr>\n",
       "      <th>427698</th>\n",
       "      <td>3</td>\n",
       "      <td>Trim_1</td>\n",
       "    </tr>\n",
       "  </tbody>\n",
       "</table>\n",
       "<p>10000 rows × 2 columns</p>\n",
       "</div>"
      ],
      "text/plain": [
       "         Month Trimestre\n",
       "276255       2    Trim_1\n",
       "1253643      7    Trim_3\n",
       "607829       4    Trim_2\n",
       "1059724      6    Trim_2\n",
       "407269       3    Trim_1\n",
       "...        ...       ...\n",
       "1136053      7    Trim_3\n",
       "1389963      8    Trim_3\n",
       "1668722     11    Trim_4\n",
       "1726767     11    Trim_4\n",
       "427698       3    Trim_1\n",
       "\n",
       "[10000 rows x 2 columns]"
      ]
     },
     "execution_count": 25,
     "metadata": {},
     "output_type": "execute_result"
    }
   ],
   "source": [
    "# Es crea la variable Trimestre, que dividieix els mesos en quartre parts.\n",
    "dfs['Trimestre'] = np.where((dfs['Month'] == 1) | (dfs['Month'] == 2) | (dfs['Month'] == 3), 'Trim_1', \n",
    "                             np.where((dfs['Month'] == 4) | (dfs['Month'] == 5) | (dfs['Month'] == 6), 'Trim_2', \n",
    "                                      np.where((dfs['Month'] == 7) | (dfs['Month'] == 8) | (dfs['Month'] == 9), 'Trim_3', 'Trim_4')))\n",
    "dfs[['Month','Trimestre']]"
   ]
  },
  {
   "cell_type": "code",
   "execution_count": 26,
   "metadata": {},
   "outputs": [],
   "source": [
    "# S'elimina la variable Month\n",
    "dfs = dfs.drop(['Month'],axis=1)"
   ]
  },
  {
   "cell_type": "code",
   "execution_count": 27,
   "metadata": {},
   "outputs": [
    {
     "data": {
      "text/html": [
       "<div>\n",
       "<style scoped>\n",
       "    .dataframe tbody tr th:only-of-type {\n",
       "        vertical-align: middle;\n",
       "    }\n",
       "\n",
       "    .dataframe tbody tr th {\n",
       "        vertical-align: top;\n",
       "    }\n",
       "\n",
       "    .dataframe thead th {\n",
       "        text-align: right;\n",
       "    }\n",
       "</style>\n",
       "<table border=\"1\" class=\"dataframe\">\n",
       "  <thead>\n",
       "    <tr style=\"text-align: right;\">\n",
       "      <th></th>\n",
       "      <th>Trim_1</th>\n",
       "      <th>Trim_2</th>\n",
       "      <th>Trim_3</th>\n",
       "      <th>Trim_4</th>\n",
       "      <th>UC_9E</th>\n",
       "      <th>UC_AA</th>\n",
       "      <th>UC_AQ</th>\n",
       "      <th>UC_AS</th>\n",
       "      <th>UC_B6</th>\n",
       "      <th>UC_CO</th>\n",
       "      <th>UC_DL</th>\n",
       "      <th>UC_EV</th>\n",
       "      <th>UC_F9</th>\n",
       "      <th>UC_FL</th>\n",
       "      <th>UC_HA</th>\n",
       "      <th>UC_MQ</th>\n",
       "      <th>UC_NW</th>\n",
       "      <th>UC_OH</th>\n",
       "      <th>UC_OO</th>\n",
       "      <th>UC_UA</th>\n",
       "      <th>UC_US</th>\n",
       "      <th>UC_WN</th>\n",
       "      <th>UC_XE</th>\n",
       "      <th>UC_YV</th>\n",
       "    </tr>\n",
       "  </thead>\n",
       "  <tbody>\n",
       "    <tr>\n",
       "      <th>276255</th>\n",
       "      <td>1</td>\n",
       "      <td>0</td>\n",
       "      <td>0</td>\n",
       "      <td>0</td>\n",
       "      <td>0</td>\n",
       "      <td>0</td>\n",
       "      <td>0</td>\n",
       "      <td>0</td>\n",
       "      <td>0</td>\n",
       "      <td>0</td>\n",
       "      <td>0</td>\n",
       "      <td>0</td>\n",
       "      <td>0</td>\n",
       "      <td>0</td>\n",
       "      <td>0</td>\n",
       "      <td>0</td>\n",
       "      <td>0</td>\n",
       "      <td>0</td>\n",
       "      <td>0</td>\n",
       "      <td>0</td>\n",
       "      <td>1</td>\n",
       "      <td>0</td>\n",
       "      <td>0</td>\n",
       "      <td>0</td>\n",
       "    </tr>\n",
       "    <tr>\n",
       "      <th>1253643</th>\n",
       "      <td>0</td>\n",
       "      <td>0</td>\n",
       "      <td>1</td>\n",
       "      <td>0</td>\n",
       "      <td>0</td>\n",
       "      <td>0</td>\n",
       "      <td>0</td>\n",
       "      <td>0</td>\n",
       "      <td>0</td>\n",
       "      <td>1</td>\n",
       "      <td>0</td>\n",
       "      <td>0</td>\n",
       "      <td>0</td>\n",
       "      <td>0</td>\n",
       "      <td>0</td>\n",
       "      <td>0</td>\n",
       "      <td>0</td>\n",
       "      <td>0</td>\n",
       "      <td>0</td>\n",
       "      <td>0</td>\n",
       "      <td>0</td>\n",
       "      <td>0</td>\n",
       "      <td>0</td>\n",
       "      <td>0</td>\n",
       "    </tr>\n",
       "    <tr>\n",
       "      <th>607829</th>\n",
       "      <td>0</td>\n",
       "      <td>1</td>\n",
       "      <td>0</td>\n",
       "      <td>0</td>\n",
       "      <td>0</td>\n",
       "      <td>0</td>\n",
       "      <td>0</td>\n",
       "      <td>0</td>\n",
       "      <td>0</td>\n",
       "      <td>0</td>\n",
       "      <td>0</td>\n",
       "      <td>0</td>\n",
       "      <td>0</td>\n",
       "      <td>0</td>\n",
       "      <td>0</td>\n",
       "      <td>0</td>\n",
       "      <td>0</td>\n",
       "      <td>0</td>\n",
       "      <td>0</td>\n",
       "      <td>0</td>\n",
       "      <td>0</td>\n",
       "      <td>0</td>\n",
       "      <td>1</td>\n",
       "      <td>0</td>\n",
       "    </tr>\n",
       "    <tr>\n",
       "      <th>1059724</th>\n",
       "      <td>0</td>\n",
       "      <td>1</td>\n",
       "      <td>0</td>\n",
       "      <td>0</td>\n",
       "      <td>0</td>\n",
       "      <td>0</td>\n",
       "      <td>0</td>\n",
       "      <td>1</td>\n",
       "      <td>0</td>\n",
       "      <td>0</td>\n",
       "      <td>0</td>\n",
       "      <td>0</td>\n",
       "      <td>0</td>\n",
       "      <td>0</td>\n",
       "      <td>0</td>\n",
       "      <td>0</td>\n",
       "      <td>0</td>\n",
       "      <td>0</td>\n",
       "      <td>0</td>\n",
       "      <td>0</td>\n",
       "      <td>0</td>\n",
       "      <td>0</td>\n",
       "      <td>0</td>\n",
       "      <td>0</td>\n",
       "    </tr>\n",
       "    <tr>\n",
       "      <th>407269</th>\n",
       "      <td>1</td>\n",
       "      <td>0</td>\n",
       "      <td>0</td>\n",
       "      <td>0</td>\n",
       "      <td>0</td>\n",
       "      <td>0</td>\n",
       "      <td>0</td>\n",
       "      <td>0</td>\n",
       "      <td>0</td>\n",
       "      <td>0</td>\n",
       "      <td>0</td>\n",
       "      <td>0</td>\n",
       "      <td>0</td>\n",
       "      <td>0</td>\n",
       "      <td>0</td>\n",
       "      <td>0</td>\n",
       "      <td>0</td>\n",
       "      <td>0</td>\n",
       "      <td>0</td>\n",
       "      <td>0</td>\n",
       "      <td>0</td>\n",
       "      <td>1</td>\n",
       "      <td>0</td>\n",
       "      <td>0</td>\n",
       "    </tr>\n",
       "    <tr>\n",
       "      <th>...</th>\n",
       "      <td>...</td>\n",
       "      <td>...</td>\n",
       "      <td>...</td>\n",
       "      <td>...</td>\n",
       "      <td>...</td>\n",
       "      <td>...</td>\n",
       "      <td>...</td>\n",
       "      <td>...</td>\n",
       "      <td>...</td>\n",
       "      <td>...</td>\n",
       "      <td>...</td>\n",
       "      <td>...</td>\n",
       "      <td>...</td>\n",
       "      <td>...</td>\n",
       "      <td>...</td>\n",
       "      <td>...</td>\n",
       "      <td>...</td>\n",
       "      <td>...</td>\n",
       "      <td>...</td>\n",
       "      <td>...</td>\n",
       "      <td>...</td>\n",
       "      <td>...</td>\n",
       "      <td>...</td>\n",
       "      <td>...</td>\n",
       "    </tr>\n",
       "    <tr>\n",
       "      <th>1136053</th>\n",
       "      <td>0</td>\n",
       "      <td>0</td>\n",
       "      <td>1</td>\n",
       "      <td>0</td>\n",
       "      <td>0</td>\n",
       "      <td>0</td>\n",
       "      <td>0</td>\n",
       "      <td>0</td>\n",
       "      <td>0</td>\n",
       "      <td>0</td>\n",
       "      <td>0</td>\n",
       "      <td>0</td>\n",
       "      <td>0</td>\n",
       "      <td>0</td>\n",
       "      <td>0</td>\n",
       "      <td>0</td>\n",
       "      <td>0</td>\n",
       "      <td>0</td>\n",
       "      <td>1</td>\n",
       "      <td>0</td>\n",
       "      <td>0</td>\n",
       "      <td>0</td>\n",
       "      <td>0</td>\n",
       "      <td>0</td>\n",
       "    </tr>\n",
       "    <tr>\n",
       "      <th>1389963</th>\n",
       "      <td>0</td>\n",
       "      <td>0</td>\n",
       "      <td>1</td>\n",
       "      <td>0</td>\n",
       "      <td>0</td>\n",
       "      <td>1</td>\n",
       "      <td>0</td>\n",
       "      <td>0</td>\n",
       "      <td>0</td>\n",
       "      <td>0</td>\n",
       "      <td>0</td>\n",
       "      <td>0</td>\n",
       "      <td>0</td>\n",
       "      <td>0</td>\n",
       "      <td>0</td>\n",
       "      <td>0</td>\n",
       "      <td>0</td>\n",
       "      <td>0</td>\n",
       "      <td>0</td>\n",
       "      <td>0</td>\n",
       "      <td>0</td>\n",
       "      <td>0</td>\n",
       "      <td>0</td>\n",
       "      <td>0</td>\n",
       "    </tr>\n",
       "    <tr>\n",
       "      <th>1668722</th>\n",
       "      <td>0</td>\n",
       "      <td>0</td>\n",
       "      <td>0</td>\n",
       "      <td>1</td>\n",
       "      <td>0</td>\n",
       "      <td>0</td>\n",
       "      <td>0</td>\n",
       "      <td>0</td>\n",
       "      <td>0</td>\n",
       "      <td>0</td>\n",
       "      <td>0</td>\n",
       "      <td>0</td>\n",
       "      <td>0</td>\n",
       "      <td>0</td>\n",
       "      <td>0</td>\n",
       "      <td>0</td>\n",
       "      <td>0</td>\n",
       "      <td>0</td>\n",
       "      <td>0</td>\n",
       "      <td>1</td>\n",
       "      <td>0</td>\n",
       "      <td>0</td>\n",
       "      <td>0</td>\n",
       "      <td>0</td>\n",
       "    </tr>\n",
       "    <tr>\n",
       "      <th>1726767</th>\n",
       "      <td>0</td>\n",
       "      <td>0</td>\n",
       "      <td>0</td>\n",
       "      <td>1</td>\n",
       "      <td>0</td>\n",
       "      <td>0</td>\n",
       "      <td>0</td>\n",
       "      <td>0</td>\n",
       "      <td>0</td>\n",
       "      <td>1</td>\n",
       "      <td>0</td>\n",
       "      <td>0</td>\n",
       "      <td>0</td>\n",
       "      <td>0</td>\n",
       "      <td>0</td>\n",
       "      <td>0</td>\n",
       "      <td>0</td>\n",
       "      <td>0</td>\n",
       "      <td>0</td>\n",
       "      <td>0</td>\n",
       "      <td>0</td>\n",
       "      <td>0</td>\n",
       "      <td>0</td>\n",
       "      <td>0</td>\n",
       "    </tr>\n",
       "    <tr>\n",
       "      <th>427698</th>\n",
       "      <td>1</td>\n",
       "      <td>0</td>\n",
       "      <td>0</td>\n",
       "      <td>0</td>\n",
       "      <td>0</td>\n",
       "      <td>0</td>\n",
       "      <td>0</td>\n",
       "      <td>0</td>\n",
       "      <td>0</td>\n",
       "      <td>0</td>\n",
       "      <td>0</td>\n",
       "      <td>0</td>\n",
       "      <td>0</td>\n",
       "      <td>0</td>\n",
       "      <td>0</td>\n",
       "      <td>0</td>\n",
       "      <td>0</td>\n",
       "      <td>0</td>\n",
       "      <td>0</td>\n",
       "      <td>0</td>\n",
       "      <td>0</td>\n",
       "      <td>0</td>\n",
       "      <td>0</td>\n",
       "      <td>1</td>\n",
       "    </tr>\n",
       "  </tbody>\n",
       "</table>\n",
       "<p>10000 rows × 24 columns</p>\n",
       "</div>"
      ],
      "text/plain": [
       "         Trim_1  Trim_2  Trim_3  Trim_4  UC_9E  UC_AA  UC_AQ  UC_AS  UC_B6  \\\n",
       "276255        1       0       0       0      0      0      0      0      0   \n",
       "1253643       0       0       1       0      0      0      0      0      0   \n",
       "607829        0       1       0       0      0      0      0      0      0   \n",
       "1059724       0       1       0       0      0      0      0      1      0   \n",
       "407269        1       0       0       0      0      0      0      0      0   \n",
       "...         ...     ...     ...     ...    ...    ...    ...    ...    ...   \n",
       "1136053       0       0       1       0      0      0      0      0      0   \n",
       "1389963       0       0       1       0      0      1      0      0      0   \n",
       "1668722       0       0       0       1      0      0      0      0      0   \n",
       "1726767       0       0       0       1      0      0      0      0      0   \n",
       "427698        1       0       0       0      0      0      0      0      0   \n",
       "\n",
       "         UC_CO  UC_DL  UC_EV  UC_F9  UC_FL  UC_HA  UC_MQ  UC_NW  UC_OH  UC_OO  \\\n",
       "276255       0      0      0      0      0      0      0      0      0      0   \n",
       "1253643      1      0      0      0      0      0      0      0      0      0   \n",
       "607829       0      0      0      0      0      0      0      0      0      0   \n",
       "1059724      0      0      0      0      0      0      0      0      0      0   \n",
       "407269       0      0      0      0      0      0      0      0      0      0   \n",
       "...        ...    ...    ...    ...    ...    ...    ...    ...    ...    ...   \n",
       "1136053      0      0      0      0      0      0      0      0      0      1   \n",
       "1389963      0      0      0      0      0      0      0      0      0      0   \n",
       "1668722      0      0      0      0      0      0      0      0      0      0   \n",
       "1726767      1      0      0      0      0      0      0      0      0      0   \n",
       "427698       0      0      0      0      0      0      0      0      0      0   \n",
       "\n",
       "         UC_UA  UC_US  UC_WN  UC_XE  UC_YV  \n",
       "276255       0      1      0      0      0  \n",
       "1253643      0      0      0      0      0  \n",
       "607829       0      0      0      1      0  \n",
       "1059724      0      0      0      0      0  \n",
       "407269       0      0      1      0      0  \n",
       "...        ...    ...    ...    ...    ...  \n",
       "1136053      0      0      0      0      0  \n",
       "1389963      0      0      0      0      0  \n",
       "1668722      1      0      0      0      0  \n",
       "1726767      0      0      0      0      0  \n",
       "427698       0      0      0      0      1  \n",
       "\n",
       "[10000 rows x 24 columns]"
      ]
     },
     "execution_count": 27,
     "metadata": {},
     "output_type": "execute_result"
    }
   ],
   "source": [
    "# Es creen les variables dummies per a Trimestre i UniqueCarrier\n",
    "dummies = pd.get_dummies(dfs[['Trimestre','UniqueCarrier']], prefix=[None, 'UC'])\n",
    "dummies"
   ]
  },
  {
   "cell_type": "code",
   "execution_count": 28,
   "metadata": {
    "scrolled": true
   },
   "outputs": [
    {
     "data": {
      "text/html": [
       "<div>\n",
       "<style scoped>\n",
       "    .dataframe tbody tr th:only-of-type {\n",
       "        vertical-align: middle;\n",
       "    }\n",
       "\n",
       "    .dataframe tbody tr th {\n",
       "        vertical-align: top;\n",
       "    }\n",
       "\n",
       "    .dataframe thead th {\n",
       "        text-align: right;\n",
       "    }\n",
       "</style>\n",
       "<table border=\"1\" class=\"dataframe\">\n",
       "  <thead>\n",
       "    <tr style=\"text-align: right;\">\n",
       "      <th></th>\n",
       "      <th>ArrDelay</th>\n",
       "      <th>DepDelay</th>\n",
       "      <th>TaxiIn</th>\n",
       "      <th>TaxiOut</th>\n",
       "      <th>VelMitja</th>\n",
       "      <th>Trim_1</th>\n",
       "      <th>Trim_2</th>\n",
       "      <th>Trim_3</th>\n",
       "      <th>Trim_4</th>\n",
       "      <th>UC_9E</th>\n",
       "      <th>UC_AA</th>\n",
       "      <th>UC_AQ</th>\n",
       "      <th>UC_AS</th>\n",
       "      <th>UC_B6</th>\n",
       "      <th>UC_CO</th>\n",
       "      <th>UC_DL</th>\n",
       "      <th>UC_EV</th>\n",
       "      <th>UC_F9</th>\n",
       "      <th>UC_FL</th>\n",
       "      <th>UC_HA</th>\n",
       "      <th>UC_MQ</th>\n",
       "      <th>UC_NW</th>\n",
       "      <th>UC_OH</th>\n",
       "      <th>UC_OO</th>\n",
       "      <th>UC_UA</th>\n",
       "      <th>UC_US</th>\n",
       "      <th>UC_WN</th>\n",
       "      <th>UC_XE</th>\n",
       "      <th>UC_YV</th>\n",
       "    </tr>\n",
       "  </thead>\n",
       "  <tbody>\n",
       "    <tr>\n",
       "      <th>276255</th>\n",
       "      <td>21.0</td>\n",
       "      <td>31.0</td>\n",
       "      <td>7.0</td>\n",
       "      <td>12.0</td>\n",
       "      <td>445.71</td>\n",
       "      <td>1</td>\n",
       "      <td>0</td>\n",
       "      <td>0</td>\n",
       "      <td>0</td>\n",
       "      <td>0</td>\n",
       "      <td>0</td>\n",
       "      <td>0</td>\n",
       "      <td>0</td>\n",
       "      <td>0</td>\n",
       "      <td>0</td>\n",
       "      <td>0</td>\n",
       "      <td>0</td>\n",
       "      <td>0</td>\n",
       "      <td>0</td>\n",
       "      <td>0</td>\n",
       "      <td>0</td>\n",
       "      <td>0</td>\n",
       "      <td>0</td>\n",
       "      <td>0</td>\n",
       "      <td>0</td>\n",
       "      <td>1</td>\n",
       "      <td>0</td>\n",
       "      <td>0</td>\n",
       "      <td>0</td>\n",
       "    </tr>\n",
       "    <tr>\n",
       "      <th>1253643</th>\n",
       "      <td>0.0</td>\n",
       "      <td>6.0</td>\n",
       "      <td>8.0</td>\n",
       "      <td>24.0</td>\n",
       "      <td>445.13</td>\n",
       "      <td>0</td>\n",
       "      <td>0</td>\n",
       "      <td>1</td>\n",
       "      <td>0</td>\n",
       "      <td>0</td>\n",
       "      <td>0</td>\n",
       "      <td>0</td>\n",
       "      <td>0</td>\n",
       "      <td>0</td>\n",
       "      <td>1</td>\n",
       "      <td>0</td>\n",
       "      <td>0</td>\n",
       "      <td>0</td>\n",
       "      <td>0</td>\n",
       "      <td>0</td>\n",
       "      <td>0</td>\n",
       "      <td>0</td>\n",
       "      <td>0</td>\n",
       "      <td>0</td>\n",
       "      <td>0</td>\n",
       "      <td>0</td>\n",
       "      <td>0</td>\n",
       "      <td>0</td>\n",
       "      <td>0</td>\n",
       "    </tr>\n",
       "    <tr>\n",
       "      <th>607829</th>\n",
       "      <td>72.0</td>\n",
       "      <td>47.0</td>\n",
       "      <td>4.0</td>\n",
       "      <td>65.0</td>\n",
       "      <td>286.00</td>\n",
       "      <td>0</td>\n",
       "      <td>1</td>\n",
       "      <td>0</td>\n",
       "      <td>0</td>\n",
       "      <td>0</td>\n",
       "      <td>0</td>\n",
       "      <td>0</td>\n",
       "      <td>0</td>\n",
       "      <td>0</td>\n",
       "      <td>0</td>\n",
       "      <td>0</td>\n",
       "      <td>0</td>\n",
       "      <td>0</td>\n",
       "      <td>0</td>\n",
       "      <td>0</td>\n",
       "      <td>0</td>\n",
       "      <td>0</td>\n",
       "      <td>0</td>\n",
       "      <td>0</td>\n",
       "      <td>0</td>\n",
       "      <td>0</td>\n",
       "      <td>0</td>\n",
       "      <td>1</td>\n",
       "      <td>0</td>\n",
       "    </tr>\n",
       "    <tr>\n",
       "      <th>1059724</th>\n",
       "      <td>45.0</td>\n",
       "      <td>34.0</td>\n",
       "      <td>3.0</td>\n",
       "      <td>17.0</td>\n",
       "      <td>172.73</td>\n",
       "      <td>0</td>\n",
       "      <td>1</td>\n",
       "      <td>0</td>\n",
       "      <td>0</td>\n",
       "      <td>0</td>\n",
       "      <td>0</td>\n",
       "      <td>0</td>\n",
       "      <td>1</td>\n",
       "      <td>0</td>\n",
       "      <td>0</td>\n",
       "      <td>0</td>\n",
       "      <td>0</td>\n",
       "      <td>0</td>\n",
       "      <td>0</td>\n",
       "      <td>0</td>\n",
       "      <td>0</td>\n",
       "      <td>0</td>\n",
       "      <td>0</td>\n",
       "      <td>0</td>\n",
       "      <td>0</td>\n",
       "      <td>0</td>\n",
       "      <td>0</td>\n",
       "      <td>0</td>\n",
       "      <td>0</td>\n",
       "    </tr>\n",
       "    <tr>\n",
       "      <th>407269</th>\n",
       "      <td>18.0</td>\n",
       "      <td>21.0</td>\n",
       "      <td>3.0</td>\n",
       "      <td>12.0</td>\n",
       "      <td>330.83</td>\n",
       "      <td>1</td>\n",
       "      <td>0</td>\n",
       "      <td>0</td>\n",
       "      <td>0</td>\n",
       "      <td>0</td>\n",
       "      <td>0</td>\n",
       "      <td>0</td>\n",
       "      <td>0</td>\n",
       "      <td>0</td>\n",
       "      <td>0</td>\n",
       "      <td>0</td>\n",
       "      <td>0</td>\n",
       "      <td>0</td>\n",
       "      <td>0</td>\n",
       "      <td>0</td>\n",
       "      <td>0</td>\n",
       "      <td>0</td>\n",
       "      <td>0</td>\n",
       "      <td>0</td>\n",
       "      <td>0</td>\n",
       "      <td>0</td>\n",
       "      <td>1</td>\n",
       "      <td>0</td>\n",
       "      <td>0</td>\n",
       "    </tr>\n",
       "  </tbody>\n",
       "</table>\n",
       "</div>"
      ],
      "text/plain": [
       "         ArrDelay  DepDelay  TaxiIn  TaxiOut  VelMitja  Trim_1  Trim_2  \\\n",
       "276255       21.0      31.0     7.0     12.0    445.71       1       0   \n",
       "1253643       0.0       6.0     8.0     24.0    445.13       0       0   \n",
       "607829       72.0      47.0     4.0     65.0    286.00       0       1   \n",
       "1059724      45.0      34.0     3.0     17.0    172.73       0       1   \n",
       "407269       18.0      21.0     3.0     12.0    330.83       1       0   \n",
       "\n",
       "         Trim_3  Trim_4  UC_9E  UC_AA  UC_AQ  UC_AS  UC_B6  UC_CO  UC_DL  \\\n",
       "276255        0       0      0      0      0      0      0      0      0   \n",
       "1253643       1       0      0      0      0      0      0      1      0   \n",
       "607829        0       0      0      0      0      0      0      0      0   \n",
       "1059724       0       0      0      0      0      1      0      0      0   \n",
       "407269        0       0      0      0      0      0      0      0      0   \n",
       "\n",
       "         UC_EV  UC_F9  UC_FL  UC_HA  UC_MQ  UC_NW  UC_OH  UC_OO  UC_UA  UC_US  \\\n",
       "276255       0      0      0      0      0      0      0      0      0      1   \n",
       "1253643      0      0      0      0      0      0      0      0      0      0   \n",
       "607829       0      0      0      0      0      0      0      0      0      0   \n",
       "1059724      0      0      0      0      0      0      0      0      0      0   \n",
       "407269       0      0      0      0      0      0      0      0      0      0   \n",
       "\n",
       "         UC_WN  UC_XE  UC_YV  \n",
       "276255       0      0      0  \n",
       "1253643      0      0      0  \n",
       "607829       0      1      0  \n",
       "1059724      0      0      0  \n",
       "407269       1      0      0  "
      ]
     },
     "execution_count": 28,
     "metadata": {},
     "output_type": "execute_result"
    }
   ],
   "source": [
    "# Dataset final\n",
    "df_final = dfs.join(dummies)\n",
    "df_final = df_final.drop(['UniqueCarrier','Trimestre'],axis=1)\n",
    "df_final.head()"
   ]
  },
  {
   "cell_type": "markdown",
   "metadata": {},
   "source": [
    "<span style='color:blue;font-size:20px'> <b> Descriptiu del dataset final </b> </span>"
   ]
  },
  {
   "cell_type": "code",
   "execution_count": 29,
   "metadata": {},
   "outputs": [
    {
     "data": {
      "text/plain": [
       "(10000, 29)"
      ]
     },
     "execution_count": 29,
     "metadata": {},
     "output_type": "execute_result"
    }
   ],
   "source": [
    "# Dimensió del dataset final\n",
    "df_final.shape"
   ]
  },
  {
   "cell_type": "code",
   "execution_count": 30,
   "metadata": {},
   "outputs": [
    {
     "data": {
      "text/html": [
       "<div>\n",
       "<style scoped>\n",
       "    .dataframe tbody tr th:only-of-type {\n",
       "        vertical-align: middle;\n",
       "    }\n",
       "\n",
       "    .dataframe tbody tr th {\n",
       "        vertical-align: top;\n",
       "    }\n",
       "\n",
       "    .dataframe thead th {\n",
       "        text-align: right;\n",
       "    }\n",
       "</style>\n",
       "<table border=\"1\" class=\"dataframe\">\n",
       "  <thead>\n",
       "    <tr style=\"text-align: right;\">\n",
       "      <th></th>\n",
       "      <th>ArrDelay</th>\n",
       "      <th>DepDelay</th>\n",
       "      <th>TaxiIn</th>\n",
       "      <th>TaxiOut</th>\n",
       "      <th>VelMitja</th>\n",
       "      <th>Trim_1</th>\n",
       "      <th>Trim_2</th>\n",
       "      <th>Trim_3</th>\n",
       "      <th>Trim_4</th>\n",
       "      <th>UC_9E</th>\n",
       "      <th>UC_AA</th>\n",
       "      <th>UC_AQ</th>\n",
       "      <th>UC_AS</th>\n",
       "      <th>UC_B6</th>\n",
       "      <th>UC_CO</th>\n",
       "      <th>UC_DL</th>\n",
       "      <th>UC_EV</th>\n",
       "      <th>UC_F9</th>\n",
       "      <th>UC_FL</th>\n",
       "      <th>UC_HA</th>\n",
       "      <th>UC_MQ</th>\n",
       "      <th>UC_NW</th>\n",
       "      <th>UC_OH</th>\n",
       "      <th>UC_OO</th>\n",
       "      <th>UC_UA</th>\n",
       "      <th>UC_US</th>\n",
       "      <th>UC_WN</th>\n",
       "      <th>UC_XE</th>\n",
       "      <th>UC_YV</th>\n",
       "    </tr>\n",
       "  </thead>\n",
       "  <tbody>\n",
       "    <tr>\n",
       "      <th>count</th>\n",
       "      <td>10000.0</td>\n",
       "      <td>10000.0</td>\n",
       "      <td>10000.0</td>\n",
       "      <td>10000.0</td>\n",
       "      <td>10000.0</td>\n",
       "      <td>10000.0</td>\n",
       "      <td>10000.0</td>\n",
       "      <td>10000.0</td>\n",
       "      <td>10000.0</td>\n",
       "      <td>10000.0</td>\n",
       "      <td>10000.0</td>\n",
       "      <td>10000.0</td>\n",
       "      <td>10000.0</td>\n",
       "      <td>10000.0</td>\n",
       "      <td>10000.0</td>\n",
       "      <td>10000.0</td>\n",
       "      <td>10000.0</td>\n",
       "      <td>10000.0</td>\n",
       "      <td>10000.0</td>\n",
       "      <td>10000.0</td>\n",
       "      <td>10000.0</td>\n",
       "      <td>10000.0</td>\n",
       "      <td>10000.0</td>\n",
       "      <td>10000.0</td>\n",
       "      <td>10000.0</td>\n",
       "      <td>10000.0</td>\n",
       "      <td>10000.0</td>\n",
       "      <td>10000.0</td>\n",
       "      <td>10000.0</td>\n",
       "    </tr>\n",
       "    <tr>\n",
       "      <th>mean</th>\n",
       "      <td>43.0</td>\n",
       "      <td>44.0</td>\n",
       "      <td>7.0</td>\n",
       "      <td>18.0</td>\n",
       "      <td>396.0</td>\n",
       "      <td>0.0</td>\n",
       "      <td>0.0</td>\n",
       "      <td>0.0</td>\n",
       "      <td>0.0</td>\n",
       "      <td>0.0</td>\n",
       "      <td>0.0</td>\n",
       "      <td>0.0</td>\n",
       "      <td>0.0</td>\n",
       "      <td>0.0</td>\n",
       "      <td>0.0</td>\n",
       "      <td>0.0</td>\n",
       "      <td>0.0</td>\n",
       "      <td>0.0</td>\n",
       "      <td>0.0</td>\n",
       "      <td>0.0</td>\n",
       "      <td>0.0</td>\n",
       "      <td>0.0</td>\n",
       "      <td>0.0</td>\n",
       "      <td>0.0</td>\n",
       "      <td>0.0</td>\n",
       "      <td>0.0</td>\n",
       "      <td>0.0</td>\n",
       "      <td>0.0</td>\n",
       "      <td>0.0</td>\n",
       "    </tr>\n",
       "    <tr>\n",
       "      <th>std</th>\n",
       "      <td>58.0</td>\n",
       "      <td>54.0</td>\n",
       "      <td>6.0</td>\n",
       "      <td>15.0</td>\n",
       "      <td>77.0</td>\n",
       "      <td>0.0</td>\n",
       "      <td>0.0</td>\n",
       "      <td>0.0</td>\n",
       "      <td>0.0</td>\n",
       "      <td>0.0</td>\n",
       "      <td>0.0</td>\n",
       "      <td>0.0</td>\n",
       "      <td>0.0</td>\n",
       "      <td>0.0</td>\n",
       "      <td>0.0</td>\n",
       "      <td>0.0</td>\n",
       "      <td>0.0</td>\n",
       "      <td>0.0</td>\n",
       "      <td>0.0</td>\n",
       "      <td>0.0</td>\n",
       "      <td>0.0</td>\n",
       "      <td>0.0</td>\n",
       "      <td>0.0</td>\n",
       "      <td>0.0</td>\n",
       "      <td>0.0</td>\n",
       "      <td>0.0</td>\n",
       "      <td>0.0</td>\n",
       "      <td>0.0</td>\n",
       "      <td>0.0</td>\n",
       "    </tr>\n",
       "    <tr>\n",
       "      <th>min</th>\n",
       "      <td>-51.0</td>\n",
       "      <td>6.0</td>\n",
       "      <td>0.0</td>\n",
       "      <td>1.0</td>\n",
       "      <td>85.0</td>\n",
       "      <td>0.0</td>\n",
       "      <td>0.0</td>\n",
       "      <td>0.0</td>\n",
       "      <td>0.0</td>\n",
       "      <td>0.0</td>\n",
       "      <td>0.0</td>\n",
       "      <td>0.0</td>\n",
       "      <td>0.0</td>\n",
       "      <td>0.0</td>\n",
       "      <td>0.0</td>\n",
       "      <td>0.0</td>\n",
       "      <td>0.0</td>\n",
       "      <td>0.0</td>\n",
       "      <td>0.0</td>\n",
       "      <td>0.0</td>\n",
       "      <td>0.0</td>\n",
       "      <td>0.0</td>\n",
       "      <td>0.0</td>\n",
       "      <td>0.0</td>\n",
       "      <td>0.0</td>\n",
       "      <td>0.0</td>\n",
       "      <td>0.0</td>\n",
       "      <td>0.0</td>\n",
       "      <td>0.0</td>\n",
       "    </tr>\n",
       "    <tr>\n",
       "      <th>25%</th>\n",
       "      <td>9.0</td>\n",
       "      <td>12.0</td>\n",
       "      <td>4.0</td>\n",
       "      <td>10.0</td>\n",
       "      <td>349.0</td>\n",
       "      <td>0.0</td>\n",
       "      <td>0.0</td>\n",
       "      <td>0.0</td>\n",
       "      <td>0.0</td>\n",
       "      <td>0.0</td>\n",
       "      <td>0.0</td>\n",
       "      <td>0.0</td>\n",
       "      <td>0.0</td>\n",
       "      <td>0.0</td>\n",
       "      <td>0.0</td>\n",
       "      <td>0.0</td>\n",
       "      <td>0.0</td>\n",
       "      <td>0.0</td>\n",
       "      <td>0.0</td>\n",
       "      <td>0.0</td>\n",
       "      <td>0.0</td>\n",
       "      <td>0.0</td>\n",
       "      <td>0.0</td>\n",
       "      <td>0.0</td>\n",
       "      <td>0.0</td>\n",
       "      <td>0.0</td>\n",
       "      <td>0.0</td>\n",
       "      <td>0.0</td>\n",
       "      <td>0.0</td>\n",
       "    </tr>\n",
       "    <tr>\n",
       "      <th>50%</th>\n",
       "      <td>25.0</td>\n",
       "      <td>24.0</td>\n",
       "      <td>6.0</td>\n",
       "      <td>14.0</td>\n",
       "      <td>404.0</td>\n",
       "      <td>0.0</td>\n",
       "      <td>0.0</td>\n",
       "      <td>0.0</td>\n",
       "      <td>0.0</td>\n",
       "      <td>0.0</td>\n",
       "      <td>0.0</td>\n",
       "      <td>0.0</td>\n",
       "      <td>0.0</td>\n",
       "      <td>0.0</td>\n",
       "      <td>0.0</td>\n",
       "      <td>0.0</td>\n",
       "      <td>0.0</td>\n",
       "      <td>0.0</td>\n",
       "      <td>0.0</td>\n",
       "      <td>0.0</td>\n",
       "      <td>0.0</td>\n",
       "      <td>0.0</td>\n",
       "      <td>0.0</td>\n",
       "      <td>0.0</td>\n",
       "      <td>0.0</td>\n",
       "      <td>0.0</td>\n",
       "      <td>0.0</td>\n",
       "      <td>0.0</td>\n",
       "      <td>0.0</td>\n",
       "    </tr>\n",
       "    <tr>\n",
       "      <th>75%</th>\n",
       "      <td>56.0</td>\n",
       "      <td>54.0</td>\n",
       "      <td>8.0</td>\n",
       "      <td>21.0</td>\n",
       "      <td>448.0</td>\n",
       "      <td>1.0</td>\n",
       "      <td>1.0</td>\n",
       "      <td>0.0</td>\n",
       "      <td>0.0</td>\n",
       "      <td>0.0</td>\n",
       "      <td>0.0</td>\n",
       "      <td>0.0</td>\n",
       "      <td>0.0</td>\n",
       "      <td>0.0</td>\n",
       "      <td>0.0</td>\n",
       "      <td>0.0</td>\n",
       "      <td>0.0</td>\n",
       "      <td>0.0</td>\n",
       "      <td>0.0</td>\n",
       "      <td>0.0</td>\n",
       "      <td>0.0</td>\n",
       "      <td>0.0</td>\n",
       "      <td>0.0</td>\n",
       "      <td>0.0</td>\n",
       "      <td>0.0</td>\n",
       "      <td>0.0</td>\n",
       "      <td>0.0</td>\n",
       "      <td>0.0</td>\n",
       "      <td>0.0</td>\n",
       "    </tr>\n",
       "    <tr>\n",
       "      <th>max</th>\n",
       "      <td>1129.0</td>\n",
       "      <td>1090.0</td>\n",
       "      <td>240.0</td>\n",
       "      <td>269.0</td>\n",
       "      <td>1296.0</td>\n",
       "      <td>1.0</td>\n",
       "      <td>1.0</td>\n",
       "      <td>1.0</td>\n",
       "      <td>1.0</td>\n",
       "      <td>1.0</td>\n",
       "      <td>1.0</td>\n",
       "      <td>1.0</td>\n",
       "      <td>1.0</td>\n",
       "      <td>1.0</td>\n",
       "      <td>1.0</td>\n",
       "      <td>1.0</td>\n",
       "      <td>1.0</td>\n",
       "      <td>1.0</td>\n",
       "      <td>1.0</td>\n",
       "      <td>1.0</td>\n",
       "      <td>1.0</td>\n",
       "      <td>1.0</td>\n",
       "      <td>1.0</td>\n",
       "      <td>1.0</td>\n",
       "      <td>1.0</td>\n",
       "      <td>1.0</td>\n",
       "      <td>1.0</td>\n",
       "      <td>1.0</td>\n",
       "      <td>1.0</td>\n",
       "    </tr>\n",
       "  </tbody>\n",
       "</table>\n",
       "</div>"
      ],
      "text/plain": [
       "       ArrDelay  DepDelay   TaxiIn  TaxiOut  VelMitja   Trim_1   Trim_2  \\\n",
       "count   10000.0   10000.0  10000.0  10000.0   10000.0  10000.0  10000.0   \n",
       "mean       43.0      44.0      7.0     18.0     396.0      0.0      0.0   \n",
       "std        58.0      54.0      6.0     15.0      77.0      0.0      0.0   \n",
       "min       -51.0       6.0      0.0      1.0      85.0      0.0      0.0   \n",
       "25%         9.0      12.0      4.0     10.0     349.0      0.0      0.0   \n",
       "50%        25.0      24.0      6.0     14.0     404.0      0.0      0.0   \n",
       "75%        56.0      54.0      8.0     21.0     448.0      1.0      1.0   \n",
       "max      1129.0    1090.0    240.0    269.0    1296.0      1.0      1.0   \n",
       "\n",
       "        Trim_3   Trim_4    UC_9E    UC_AA    UC_AQ    UC_AS    UC_B6    UC_CO  \\\n",
       "count  10000.0  10000.0  10000.0  10000.0  10000.0  10000.0  10000.0  10000.0   \n",
       "mean       0.0      0.0      0.0      0.0      0.0      0.0      0.0      0.0   \n",
       "std        0.0      0.0      0.0      0.0      0.0      0.0      0.0      0.0   \n",
       "min        0.0      0.0      0.0      0.0      0.0      0.0      0.0      0.0   \n",
       "25%        0.0      0.0      0.0      0.0      0.0      0.0      0.0      0.0   \n",
       "50%        0.0      0.0      0.0      0.0      0.0      0.0      0.0      0.0   \n",
       "75%        0.0      0.0      0.0      0.0      0.0      0.0      0.0      0.0   \n",
       "max        1.0      1.0      1.0      1.0      1.0      1.0      1.0      1.0   \n",
       "\n",
       "         UC_DL    UC_EV    UC_F9    UC_FL    UC_HA    UC_MQ    UC_NW    UC_OH  \\\n",
       "count  10000.0  10000.0  10000.0  10000.0  10000.0  10000.0  10000.0  10000.0   \n",
       "mean       0.0      0.0      0.0      0.0      0.0      0.0      0.0      0.0   \n",
       "std        0.0      0.0      0.0      0.0      0.0      0.0      0.0      0.0   \n",
       "min        0.0      0.0      0.0      0.0      0.0      0.0      0.0      0.0   \n",
       "25%        0.0      0.0      0.0      0.0      0.0      0.0      0.0      0.0   \n",
       "50%        0.0      0.0      0.0      0.0      0.0      0.0      0.0      0.0   \n",
       "75%        0.0      0.0      0.0      0.0      0.0      0.0      0.0      0.0   \n",
       "max        1.0      1.0      1.0      1.0      1.0      1.0      1.0      1.0   \n",
       "\n",
       "         UC_OO    UC_UA    UC_US    UC_WN    UC_XE    UC_YV  \n",
       "count  10000.0  10000.0  10000.0  10000.0  10000.0  10000.0  \n",
       "mean       0.0      0.0      0.0      0.0      0.0      0.0  \n",
       "std        0.0      0.0      0.0      0.0      0.0      0.0  \n",
       "min        0.0      0.0      0.0      0.0      0.0      0.0  \n",
       "25%        0.0      0.0      0.0      0.0      0.0      0.0  \n",
       "50%        0.0      0.0      0.0      0.0      0.0      0.0  \n",
       "75%        0.0      0.0      0.0      0.0      0.0      0.0  \n",
       "max        1.0      1.0      1.0      1.0      1.0      1.0  "
      ]
     },
     "execution_count": 30,
     "metadata": {},
     "output_type": "execute_result"
    }
   ],
   "source": [
    "# Descriptiu de les dades\n",
    "df_final.describe().round()"
   ]
  },
  {
   "cell_type": "markdown",
   "metadata": {},
   "source": [
    "<span style='color:blue;font-size:20px'> <b> Definició de la variable objectiu i dels predictors </b> </span>"
   ]
  },
  {
   "cell_type": "code",
   "execution_count": 31,
   "metadata": {},
   "outputs": [],
   "source": [
    "# Variable objectiu\n",
    "y = df_final['ArrDelay']\n",
    "# Predictors\n",
    "X = df_final.drop(['ArrDelay'], axis = 1)\n",
    "# LLista amb el nom dels predictors\n",
    "X_list = list(X.columns)"
   ]
  },
  {
   "cell_type": "markdown",
   "metadata": {},
   "source": [
    "<span style='color:blue;font-size:20px'> <b> Mostra d'entrenament i mostra de prova </b> </span>"
   ]
  },
  {
   "cell_type": "code",
   "execution_count": 32,
   "metadata": {},
   "outputs": [
    {
     "name": "stdout",
     "output_type": "stream",
     "text": [
      "Training Features Shape: (8000, 28)\n",
      "Training Labels Shape: (8000,)\n",
      "Testing Features Shape: (2000, 28)\n",
      "Testing Labels Shape: (2000,)\n"
     ]
    }
   ],
   "source": [
    "# train_test_split\n",
    "train_x, test_x, train_y, test_y = train_test_split(X, y, test_size = 0.20, random_state = 1234)\n",
    "print('Training Features Shape:', train_x.shape)\n",
    "print('Training Labels Shape:', train_y.shape)\n",
    "print('Testing Features Shape:', test_x.shape)\n",
    "print('Testing Labels Shape:', test_y.shape)"
   ]
  },
  {
   "cell_type": "markdown",
   "metadata": {},
   "source": [
    "## Exercici 1\n",
    "__Crea almenys tres models de regressió diferents per intentar predir el millor possible l’endarreriment dels vols (ArrDelay) de DelayedFlights.csv.__"
   ]
  },
  {
   "cell_type": "markdown",
   "metadata": {},
   "source": [
    "<span style='color:blue;font-size:18px'> <b> Model 1: Stepwise Regression </b> </span>"
   ]
  },
  {
   "cell_type": "code",
   "execution_count": 33,
   "metadata": {},
   "outputs": [],
   "source": [
    "# Es crea una copia de les dades d'entrenament dels predictors\n",
    "x_train = train_x.copy()"
   ]
  },
  {
   "cell_type": "code",
   "execution_count": 34,
   "metadata": {},
   "outputs": [],
   "source": [
    "# Funció que aplica la regressió por Mínims Quadrats Ordinaris d'un dataset de predictors y la variable objectiu\n",
    "def model_est(tx,ty,const=False):\n",
    "    if const:\n",
    "        tx = sm.add_constant(tx)\n",
    "    results = sm.OLS(ty, tx).fit()\n",
    "    return results"
   ]
  },
  {
   "cell_type": "code",
   "execution_count": 35,
   "metadata": {},
   "outputs": [
    {
     "name": "stdout",
     "output_type": "stream",
     "text": [
      "                            OLS Regression Results                            \n",
      "==============================================================================\n",
      "Dep. Variable:               ArrDelay   R-squared:                       0.965\n",
      "Model:                            OLS   Adj. R-squared:                  0.965\n",
      "Method:                 Least Squares   F-statistic:                     8480.\n",
      "Date:                Wed, 19 May 2021   Prob (F-statistic):               0.00\n",
      "Time:                        17:15:13   Log-Likelihood:                -30084.\n",
      "No. Observations:                8000   AIC:                         6.022e+04\n",
      "Df Residuals:                    7973   BIC:                         6.041e+04\n",
      "Df Model:                          26                                         \n",
      "Covariance Type:            nonrobust                                         \n",
      "==============================================================================\n",
      "                 coef    std err          t      P>|t|      [0.025      0.975]\n",
      "------------------------------------------------------------------------------\n",
      "const          4.8363      0.600      8.060      0.000       3.660       6.013\n",
      "DepDelay       0.9955      0.002    437.755      0.000       0.991       1.000\n",
      "TaxiIn         0.8905      0.021     42.554      0.000       0.850       0.932\n",
      "TaxiOut        0.8783      0.008    106.730      0.000       0.862       0.894\n",
      "VelMitja      -0.0714      0.002    -43.121      0.000      -0.075      -0.068\n",
      "Trim_1         1.3574      0.238      5.712      0.000       0.892       1.823\n",
      "Trim_2         2.5038      0.249     10.071      0.000       2.016       2.991\n",
      "Trim_3         0.4210      0.260      1.618      0.106      -0.089       0.931\n",
      "Trim_4         0.5541      0.265      2.088      0.037       0.034       1.074\n",
      "UC_9E         -5.1759      0.750     -6.899      0.000      -6.647      -3.705\n",
      "UC_AA          2.1150      0.469      4.507      0.000       1.195       3.035\n",
      "UC_AQ         16.7350      4.970      3.367      0.001       6.992      26.478\n",
      "UC_AS          3.5871      0.816      4.396      0.000       1.988       5.187\n",
      "UC_B6         -2.4931      0.720     -3.462      0.001      -3.905      -1.082\n",
      "UC_CO         -5.5523      0.587     -9.457      0.000      -6.703      -4.401\n",
      "UC_DL         -3.9012      0.536     -7.278      0.000      -4.952      -2.850\n",
      "UC_EV         -2.4042      0.614     -3.916      0.000      -3.608      -1.201\n",
      "UC_F9          4.0726      1.069      3.811      0.000       1.978       6.167\n",
      "UC_FL          2.4193      0.639      3.783      0.000       1.166       3.673\n",
      "UC_HA          7.5705      1.834      4.128      0.000       3.975      11.166\n",
      "UC_MQ         -2.0328      0.511     -3.981      0.000      -3.034      -1.032\n",
      "UC_NW         -1.1360      0.637     -1.784      0.074      -2.384       0.112\n",
      "UC_OH         -5.6903      0.759     -7.500      0.000      -7.178      -4.203\n",
      "UC_OO         -0.6089      0.514     -1.185      0.236      -1.616       0.399\n",
      "UC_UA          1.2891      0.502      2.567      0.010       0.305       2.274\n",
      "UC_US         -1.7808      0.564     -3.159      0.002      -2.886      -0.676\n",
      "UC_WN          4.0784      0.395     10.330      0.000       3.305       4.852\n",
      "UC_XE         -2.9449      0.552     -5.332      0.000      -4.028      -1.862\n",
      "UC_YV         -3.3104      0.661     -5.008      0.000      -4.606      -2.015\n",
      "==============================================================================\n",
      "Omnibus:                      948.390   Durbin-Watson:                   2.004\n",
      "Prob(Omnibus):                  0.000   Jarque-Bera (JB):             9324.660\n",
      "Skew:                           0.144   Prob(JB):                         0.00\n",
      "Kurtosis:                       8.281   Cond. No.                     2.66e+16\n",
      "==============================================================================\n",
      "\n",
      "Notes:\n",
      "[1] Standard Errors assume that the covariance matrix of the errors is correctly specified.\n",
      "[2] The smallest eigenvalue is 1.87e-24. This might indicate that there are\n",
      "strong multicollinearity problems or that the design matrix is singular.\n"
     ]
    }
   ],
   "source": [
    "# S'aplica la regressió amb totes les variables\n",
    "results = model_est(x_train,train_y,const=True)\n",
    "print(results.summary())"
   ]
  },
  {
   "cell_type": "markdown",
   "metadata": {},
   "source": [
    "<span style='color:blue'> Mitjançant el criteri alpha = 0.05, es rebutja totes aquelles variables que tinguin un p-valor de la t de Student superior a 0.05. </span>"
   ]
  },
  {
   "cell_type": "markdown",
   "metadata": {},
   "source": [
    "<span style='color:blue'> Es comença eliminant la variable amb el p-valor més alt, que és 'UC_OO' </span>"
   ]
  },
  {
   "cell_type": "code",
   "execution_count": 36,
   "metadata": {},
   "outputs": [
    {
     "name": "stdout",
     "output_type": "stream",
     "text": [
      "                            OLS Regression Results                            \n",
      "==============================================================================\n",
      "Dep. Variable:               ArrDelay   R-squared:                       0.965\n",
      "Model:                            OLS   Adj. R-squared:                  0.965\n",
      "Method:                 Least Squares   F-statistic:                     8480.\n",
      "Date:                Wed, 19 May 2021   Prob (F-statistic):               0.00\n",
      "Time:                        17:15:17   Log-Likelihood:                -30084.\n",
      "No. Observations:                8000   AIC:                         6.022e+04\n",
      "Df Residuals:                    7973   BIC:                         6.041e+04\n",
      "Df Model:                          26                                         \n",
      "Covariance Type:            nonrobust                                         \n",
      "==============================================================================\n",
      "                 coef    std err          t      P>|t|      [0.025      0.975]\n",
      "------------------------------------------------------------------------------\n",
      "const          4.3492      0.603      7.216      0.000       3.168       5.531\n",
      "DepDelay       0.9955      0.002    437.755      0.000       0.991       1.000\n",
      "TaxiIn         0.8905      0.021     42.554      0.000       0.850       0.932\n",
      "TaxiOut        0.8783      0.008    106.730      0.000       0.862       0.894\n",
      "VelMitja      -0.0714      0.002    -43.121      0.000      -0.075      -0.068\n",
      "Trim_1         1.2356      0.238      5.182      0.000       0.768       1.703\n",
      "Trim_2         2.3821      0.249      9.584      0.000       1.895       2.869\n",
      "Trim_3         0.2992      0.261      1.148      0.251      -0.212       0.810\n",
      "Trim_4         0.4323      0.266      1.626      0.104      -0.089       0.953\n",
      "UC_9E         -4.5670      0.847     -5.391      0.000      -6.228      -2.906\n",
      "UC_AA          2.7238      0.598      4.557      0.000       1.552       3.896\n",
      "UC_AQ         17.3439      5.240      3.310      0.001       7.071      27.616\n",
      "UC_AS          4.1959      0.918      4.571      0.000       2.397       5.995\n",
      "UC_B6         -1.8842      0.825     -2.283      0.022      -3.502      -0.266\n",
      "UC_CO         -4.9434      0.702     -7.039      0.000      -6.320      -3.567\n",
      "UC_DL         -3.2923      0.654     -5.036      0.000      -4.574      -2.011\n",
      "UC_EV         -1.7953      0.716     -2.507      0.012      -3.199      -0.391\n",
      "UC_F9          4.6814      1.175      3.984      0.000       2.378       6.985\n",
      "UC_FL          3.0281      0.748      4.050      0.000       1.563       4.494\n",
      "UC_HA          8.1793      1.956      4.182      0.000       4.345      12.014\n",
      "UC_MQ         -1.4239      0.616     -2.311      0.021      -2.631      -0.216\n",
      "UC_NW         -0.5271      0.746     -0.707      0.480      -1.989       0.935\n",
      "UC_OH         -5.0814      0.855     -5.944      0.000      -6.757      -3.406\n",
      "UC_UA          1.8980      0.625      3.037      0.002       0.673       3.123\n",
      "UC_US         -1.1720      0.678     -1.730      0.084      -2.500       0.156\n",
      "UC_WN          4.6873      0.523      8.958      0.000       3.662       5.713\n",
      "UC_XE         -2.3361      0.660     -3.538      0.000      -3.630      -1.042\n",
      "UC_YV         -2.7016      0.757     -3.570      0.000      -4.185      -1.218\n",
      "==============================================================================\n",
      "Omnibus:                      948.390   Durbin-Watson:                   2.004\n",
      "Prob(Omnibus):                  0.000   Jarque-Bera (JB):             9324.660\n",
      "Skew:                           0.144   Prob(JB):                         0.00\n",
      "Kurtosis:                       8.281   Cond. No.                     3.05e+16\n",
      "==============================================================================\n",
      "\n",
      "Notes:\n",
      "[1] Standard Errors assume that the covariance matrix of the errors is correctly specified.\n",
      "[2] The smallest eigenvalue is 1.42e-24. This might indicate that there are\n",
      "strong multicollinearity problems or that the design matrix is singular.\n"
     ]
    }
   ],
   "source": [
    "# S'elimina la variable amb p-valor més gran i es torna a aplicar el model\n",
    "x_train = x_train.drop(['UC_OO'],axis=1)\n",
    "results = model_est(x_train,train_y,const=True)\n",
    "print(results.summary())"
   ]
  },
  {
   "cell_type": "markdown",
   "metadata": {},
   "source": [
    "<span style='color:blue'> Els següents passos consisteixen en anar eliminant la resta de variables amb p-valors superiors a 0.05 cada cop que es descarta una variable del model. La següent variable que s'elimina és UC_NW. </span>"
   ]
  },
  {
   "cell_type": "code",
   "execution_count": null,
   "metadata": {},
   "outputs": [],
   "source": [
    "'''\n",
    "x_train = x_train.drop(['UC_NW'],axis=1)\n",
    "results = model_est(x_train,train_y,const=True)\n",
    "print(results.summary())\n",
    "\n",
    "x_train = x_train.drop(['Trim_3'],axis=1)\n",
    "results = model_est(x_train,train_y,const=True)\n",
    "print(results.summary())\n",
    "\n",
    "x_train = x_train.drop(['Trim_4'],axis=1)\n",
    "results = model_est(x_train,train_y,const=True)\n",
    "print(results.summary())\n",
    "\n",
    "x_train = x_train.drop(['UC_US'],axis=1)\n",
    "results = model_est(x_train,train_y,const=True)\n",
    "print(results.summary())\n",
    "\n",
    "x_train = x_train.drop(['UC_MQ'],axis=1)\n",
    "results = model_est(x_train,train_y,const=True)\n",
    "print(results.summary())\n",
    "\n",
    "x_train = x_train.drop(['UC_B6'],axis=1)\n",
    "results = model_est(x_train,train_y,const=True)\n",
    "print(results.summary())\n",
    "\n",
    "x_train = x_train.drop(['UC_EV'],axis=1)\n",
    "results = model_est(x_train,train_y,const=True)\n",
    "print(results.summary())\n",
    "'''"
   ]
  },
  {
   "cell_type": "markdown",
   "metadata": {},
   "source": [
    "<span style='color:blue'> Per a simplificar la tasca, es procedeix al resultat final del model un cop eliminades totes les variables mitjançant el métode backward-looking </span>"
   ]
  },
  {
   "cell_type": "code",
   "execution_count": 37,
   "metadata": {},
   "outputs": [
    {
     "name": "stdout",
     "output_type": "stream",
     "text": [
      "                            OLS Regression Results                            \n",
      "==============================================================================\n",
      "Dep. Variable:               ArrDelay   R-squared:                       0.965\n",
      "Model:                            OLS   Adj. R-squared:                  0.965\n",
      "Method:                 Least Squares   F-statistic:                 1.102e+04\n",
      "Date:                Wed, 19 May 2021   Prob (F-statistic):               0.00\n",
      "Time:                        17:15:22   Log-Likelihood:                -30089.\n",
      "No. Observations:                8000   AIC:                         6.022e+04\n",
      "Df Residuals:                    7979   BIC:                         6.037e+04\n",
      "Df Model:                          20                                         \n",
      "Covariance Type:            nonrobust                                         \n",
      "==============================================================================\n",
      "                 coef    std err          t      P>|t|      [0.025      0.975]\n",
      "------------------------------------------------------------------------------\n",
      "const          3.8771      0.705      5.500      0.000       2.495       5.259\n",
      "DepDelay       0.9954      0.002    438.351      0.000       0.991       1.000\n",
      "TaxiIn         0.8901      0.021     42.667      0.000       0.849       0.931\n",
      "TaxiOut        0.8774      0.008    107.116      0.000       0.861       0.893\n",
      "VelMitja      -0.0719      0.002    -44.708      0.000      -0.075      -0.069\n",
      "Trim_1         0.8903      0.279      3.187      0.001       0.343       1.438\n",
      "Trim_2         2.0289      0.286      7.091      0.000       1.468       2.590\n",
      "UC_9E         -3.5314      0.754     -4.681      0.000      -5.010      -2.053\n",
      "UC_AA          3.7786      0.441      8.561      0.000       2.913       4.644\n",
      "UC_AQ         18.4340      5.224      3.528      0.000       8.193      28.675\n",
      "UC_AS          5.2375      0.830      6.313      0.000       3.611       6.864\n",
      "UC_CO         -3.8817      0.575     -6.748      0.000      -5.009      -2.754\n",
      "UC_DL         -2.2340      0.517     -4.323      0.000      -3.247      -1.221\n",
      "UC_F9          5.7512      1.103      5.215      0.000       3.589       7.913\n",
      "UC_FL          4.0700      0.635      6.409      0.000       2.825       5.315\n",
      "UC_HA          9.2220      1.917      4.811      0.000       5.465      12.980\n",
      "UC_OH         -4.0570      0.764     -5.312      0.000      -5.554      -2.560\n",
      "UC_UA          2.9504      0.479      6.153      0.000       2.010       3.890\n",
      "UC_WN          5.7193      0.352     16.263      0.000       5.030       6.409\n",
      "UC_XE         -1.3079      0.534     -2.450      0.014      -2.354      -0.261\n",
      "UC_YV         -1.6786      0.655     -2.563      0.010      -2.963      -0.395\n",
      "==============================================================================\n",
      "Omnibus:                      953.970   Durbin-Watson:                   2.004\n",
      "Prob(Omnibus):                  0.000   Jarque-Bera (JB):             9503.618\n",
      "Skew:                           0.141   Prob(JB):                         0.00\n",
      "Kurtosis:                       8.332   Cond. No.                     1.82e+04\n",
      "==============================================================================\n",
      "\n",
      "Notes:\n",
      "[1] Standard Errors assume that the covariance matrix of the errors is correctly specified.\n",
      "[2] The condition number is large, 1.82e+04. This might indicate that there are\n",
      "strong multicollinearity or other numerical problems.\n"
     ]
    }
   ],
   "source": [
    "# Model final \n",
    "x_train = x_train.drop(['UC_NW','Trim_3','Trim_4','UC_US','UC_MQ','UC_B6','UC_EV'],axis=1)\n",
    "model_1 = model_est(x_train,train_y,const=True)\n",
    "print(model_1.summary())"
   ]
  },
  {
   "cell_type": "markdown",
   "metadata": {},
   "source": [
    "<span style='color:blue;font-size:18px'> <b> Model 2: Ridge Regression </b> </span>"
   ]
  },
  {
   "cell_type": "code",
   "execution_count": 38,
   "metadata": {},
   "outputs": [],
   "source": [
    "# Es crea una copa del dataset d'entrenament dels predictors\n",
    "x_train_2 = train_x.copy()"
   ]
  },
  {
   "cell_type": "code",
   "execution_count": 39,
   "metadata": {},
   "outputs": [],
   "source": [
    "# Es genera el model d'entrenament mitjançant la Ridge Regression (S'utilitzen totes les variables)\n",
    "model_2 = RidgeCV()\n",
    "model_2 = model_2.fit(x_train_2, train_y)"
   ]
  },
  {
   "cell_type": "code",
   "execution_count": 40,
   "metadata": {},
   "outputs": [
    {
     "name": "stdout",
     "output_type": "stream",
     "text": [
      "6.0888485458055115\n"
     ]
    }
   ],
   "source": [
    "# Intercept del model\n",
    "print(model_2.intercept_)"
   ]
  },
  {
   "cell_type": "code",
   "execution_count": 41,
   "metadata": {},
   "outputs": [
    {
     "name": "stdout",
     "output_type": "stream",
     "text": [
      "[ 0.99548104  0.89019316  0.87808833 -0.07135815  0.1521441   1.29231297\n",
      " -0.78916727 -0.6552898  -5.21241594  2.04510711 13.32264446  3.49962674\n",
      " -2.54704101 -5.60350408 -3.95787325 -2.45980873  3.960371    2.34600399\n",
      "  7.26188128 -2.09069913 -1.19747629 -5.72325794 -0.66897386  1.22001688\n",
      " -1.84263272  4.00867776 -3.00094792 -3.35969835]\n"
     ]
    }
   ],
   "source": [
    "# Coeficients del model\n",
    "print(model_2.coef_)"
   ]
  },
  {
   "cell_type": "markdown",
   "metadata": {},
   "source": [
    "<span style='color:blue;font-size:18px'> <b> Model 3: LASSO  </b> </span>"
   ]
  },
  {
   "cell_type": "code",
   "execution_count": 42,
   "metadata": {},
   "outputs": [],
   "source": [
    "# Es crea una copa del dataset d'entrenament dels predictors\n",
    "x_train_3 = train_x.copy()"
   ]
  },
  {
   "cell_type": "code",
   "execution_count": 43,
   "metadata": {},
   "outputs": [
    {
     "data": {
      "text/html": [
       "<div>\n",
       "<style scoped>\n",
       "    .dataframe tbody tr th:only-of-type {\n",
       "        vertical-align: middle;\n",
       "    }\n",
       "\n",
       "    .dataframe tbody tr th {\n",
       "        vertical-align: top;\n",
       "    }\n",
       "\n",
       "    .dataframe thead th {\n",
       "        text-align: right;\n",
       "    }\n",
       "</style>\n",
       "<table border=\"1\" class=\"dataframe\">\n",
       "  <thead>\n",
       "    <tr style=\"text-align: right;\">\n",
       "      <th></th>\n",
       "      <th>DepDelay</th>\n",
       "      <th>TaxiIn</th>\n",
       "      <th>TaxiOut</th>\n",
       "      <th>VelMitja</th>\n",
       "    </tr>\n",
       "  </thead>\n",
       "  <tbody>\n",
       "    <tr>\n",
       "      <th>131399</th>\n",
       "      <td>30.0</td>\n",
       "      <td>9.0</td>\n",
       "      <td>18.0</td>\n",
       "      <td>519.48</td>\n",
       "    </tr>\n",
       "    <tr>\n",
       "      <th>1221172</th>\n",
       "      <td>130.0</td>\n",
       "      <td>13.0</td>\n",
       "      <td>11.0</td>\n",
       "      <td>431.83</td>\n",
       "    </tr>\n",
       "    <tr>\n",
       "      <th>650342</th>\n",
       "      <td>18.0</td>\n",
       "      <td>8.0</td>\n",
       "      <td>9.0</td>\n",
       "      <td>390.00</td>\n",
       "    </tr>\n",
       "    <tr>\n",
       "      <th>447821</th>\n",
       "      <td>150.0</td>\n",
       "      <td>4.0</td>\n",
       "      <td>26.0</td>\n",
       "      <td>461.79</td>\n",
       "    </tr>\n",
       "    <tr>\n",
       "      <th>125634</th>\n",
       "      <td>13.0</td>\n",
       "      <td>6.0</td>\n",
       "      <td>21.0</td>\n",
       "      <td>318.26</td>\n",
       "    </tr>\n",
       "  </tbody>\n",
       "</table>\n",
       "</div>"
      ],
      "text/plain": [
       "         DepDelay  TaxiIn  TaxiOut  VelMitja\n",
       "131399       30.0     9.0     18.0    519.48\n",
       "1221172     130.0    13.0     11.0    431.83\n",
       "650342       18.0     8.0      9.0    390.00\n",
       "447821      150.0     4.0     26.0    461.79\n",
       "125634       13.0     6.0     21.0    318.26"
      ]
     },
     "execution_count": 43,
     "metadata": {},
     "output_type": "execute_result"
    }
   ],
   "source": [
    "# Aquest métode treballa amb poques variables. S'eliminen les variables dummy\n",
    "x_train_3 = x_train_3.drop(x_train_3.columns[4:],axis=1)\n",
    "x_train_3.head()"
   ]
  },
  {
   "cell_type": "code",
   "execution_count": 44,
   "metadata": {},
   "outputs": [],
   "source": [
    "# Es genera el model d'entrenament mitjançant LASSO (S'utilitzen només les variables numèriques)\n",
    "model_3 = LassoCV()\n",
    "model_3 = model_3.fit(x_train_3, train_y)"
   ]
  },
  {
   "cell_type": "code",
   "execution_count": 45,
   "metadata": {},
   "outputs": [
    {
     "name": "stdout",
     "output_type": "stream",
     "text": [
      "6.2970439327316825\n"
     ]
    }
   ],
   "source": [
    "# Intercept del model\n",
    "print(model_3.intercept_)"
   ]
  },
  {
   "cell_type": "code",
   "execution_count": 46,
   "metadata": {},
   "outputs": [
    {
     "name": "stdout",
     "output_type": "stream",
     "text": [
      "[ 0.99281541  0.73385591  0.81574998 -0.06666479]\n"
     ]
    }
   ],
   "source": [
    "# Coeficients del model\n",
    "print(model_3.coef_)"
   ]
  },
  {
   "cell_type": "markdown",
   "metadata": {},
   "source": [
    "## Exercici 2\n",
    "__Compara’ls en base al MSE i al R2__"
   ]
  },
  {
   "cell_type": "markdown",
   "metadata": {},
   "source": [
    "<span style='color:blue;font-size:18px'> <b> Comparació dels MSE (Mitjana del quadrat dels errors) </b> </span>"
   ]
  },
  {
   "cell_type": "code",
   "execution_count": 47,
   "metadata": {},
   "outputs": [
    {
     "data": {
      "text/plain": [
       "108.52755141644293"
      ]
     },
     "execution_count": 47,
     "metadata": {},
     "output_type": "execute_result"
    }
   ],
   "source": [
    "# Model 1: Stepwise Regression\n",
    "model_1.mse_resid"
   ]
  },
  {
   "cell_type": "code",
   "execution_count": 48,
   "metadata": {},
   "outputs": [
    {
     "data": {
      "text/plain": [
       "108.10423845222758"
      ]
     },
     "execution_count": 48,
     "metadata": {},
     "output_type": "execute_result"
    }
   ],
   "source": [
    "# Model 2: Ridge Regression\n",
    "pred_2 = model_2.predict(x_train_2)\n",
    "MSE_2 = mean_squared_error(train_y, pred_2)\n",
    "MSE_2"
   ]
  },
  {
   "cell_type": "code",
   "execution_count": 49,
   "metadata": {},
   "outputs": [
    {
     "data": {
      "text/plain": [
       "118.55330687042348"
      ]
     },
     "execution_count": 49,
     "metadata": {},
     "output_type": "execute_result"
    }
   ],
   "source": [
    "# Model 3: LASSO\n",
    "pred_3 = model_3.predict(x_train_3)\n",
    "MSE_3 = mean_squared_error(train_y, pred_3)\n",
    "MSE_3"
   ]
  },
  {
   "cell_type": "markdown",
   "metadata": {},
   "source": [
    "<span style='color:blue;font-size:15px'> El model amb menys MSE és el model 2 Ridge Regression. </span>"
   ]
  },
  {
   "cell_type": "markdown",
   "metadata": {},
   "source": [
    "<span style='color:blue;font-size:18px'> <b> Comparació dels R2 (Coeficient de determinació) </b> </span>"
   ]
  },
  {
   "cell_type": "code",
   "execution_count": 50,
   "metadata": {},
   "outputs": [
    {
     "name": "stdout",
     "output_type": "stream",
     "text": [
      "R2: 0.9651\n",
      "R2 Ajustat: 0.965\n"
     ]
    }
   ],
   "source": [
    "# Model 1: Stepwise Regression\n",
    "R2_1 = model_1.rsquared\n",
    "print('R2:', round(R2_1,4))\n",
    "R2_1_Adj = 1-(1-R2_1)*(8000-1)/(8000-20-1)\n",
    "print('R2 Ajustat:', round(R2_1_Adj,4))"
   ]
  },
  {
   "cell_type": "code",
   "execution_count": 51,
   "metadata": {},
   "outputs": [
    {
     "name": "stdout",
     "output_type": "stream",
     "text": [
      "R2: 0.9651\n",
      "R2 Ajustat: 0.965\n"
     ]
    }
   ],
   "source": [
    "# Model 2: Ridge Regression\n",
    "R2_2 = model_2.score(x_train_2, train_y)\n",
    "print('R2:', round(R2_2,4))\n",
    "R2_2_Adj = 1-(1-R2_2)*(8000-1)/(8000-26-1)\n",
    "print('R2 Ajustat:', round(R2_2_Adj,4))"
   ]
  },
  {
   "cell_type": "code",
   "execution_count": 52,
   "metadata": {},
   "outputs": [
    {
     "name": "stdout",
     "output_type": "stream",
     "text": [
      "R2: 0.9617\n",
      "R2 Ajustat: 0.9617\n"
     ]
    }
   ],
   "source": [
    "# Model 3: LASSO\n",
    "R2_3 = model_3.score(x_train_3, train_y)\n",
    "print('R2:',round(R2_3,4))\n",
    "R2_3_Adj = 1-(1-R2_3)*(8000-1)/(8000-4-1)\n",
    "print('R2 Ajustat:', round(R2_3_Adj,4))"
   ]
  },
  {
   "cell_type": "markdown",
   "metadata": {},
   "source": [
    "<span style='color:blue;font-size:15px'> Els models Stepwise i Ridge tenen els R2 ajustats més alts. </span>"
   ]
  },
  {
   "cell_type": "markdown",
   "metadata": {},
   "source": [
    "## Exercici 3\n",
    "__Entrena’ls utilitzant els diferents paràmetres que admeten.__"
   ]
  },
  {
   "cell_type": "code",
   "execution_count": null,
   "metadata": {},
   "outputs": [],
   "source": []
  },
  {
   "cell_type": "markdown",
   "metadata": {},
   "source": [
    "## Exercici 4\n",
    "__Compara el seu rendiment utilitzant l’aproximació traint/test o utilitzant totes les dades (validació interna)__"
   ]
  },
  {
   "cell_type": "markdown",
   "metadata": {},
   "source": [
    "<span style='color:blue;font-size:18px'> <b> Rendiment Stepwise Regression </b> </span>"
   ]
  },
  {
   "cell_type": "code",
   "execution_count": 53,
   "metadata": {},
   "outputs": [],
   "source": [
    "# Dataset de prova dels predictors\n",
    "x_test_SR = test_x.copy()\n",
    "x_test_SR = x_test_SR.drop(['UC_OO','UC_NW','Trim_3','Trim_4','UC_US','UC_MQ','UC_B6','UC_EV'],axis=1)"
   ]
  },
  {
   "cell_type": "code",
   "execution_count": 54,
   "metadata": {},
   "outputs": [],
   "source": [
    "# Prediccions\n",
    "x_test_SR = sm.add_constant(x_test_SR)\n",
    "pred_SR = model_1.predict(x_test_SR)"
   ]
  },
  {
   "cell_type": "code",
   "execution_count": 55,
   "metadata": {},
   "outputs": [
    {
     "name": "stdout",
     "output_type": "stream",
     "text": [
      "Error Absolut Mig: 7.34 degrees.\n"
     ]
    }
   ],
   "source": [
    "# Error Absolut Mig\n",
    "errors_SR = abs(pred_SR - test_y)\n",
    "print('Error Absolut Mig:', round(np.mean(errors_SR), 2), 'degrees.')"
   ]
  },
  {
   "cell_type": "code",
   "execution_count": 56,
   "metadata": {},
   "outputs": [
    {
     "name": "stdout",
     "output_type": "stream",
     "text": [
      "Error Percentual Mig Arctangent: 0.377\n"
     ]
    }
   ],
   "source": [
    "# Error Percentual Mig Arctangent\n",
    "errors_p_SR = abs((pred_SR - test_y)/test_y)\n",
    "print('Error Percentual Mig Arctangent:', round(np.mean(np.arctan(errors_p_SR)),4))"
   ]
  },
  {
   "cell_type": "code",
   "execution_count": 57,
   "metadata": {},
   "outputs": [
    {
     "data": {
      "text/plain": [
       "101.05914184799374"
      ]
     },
     "execution_count": 57,
     "metadata": {},
     "output_type": "execute_result"
    }
   ],
   "source": [
    "# Mean Squared Error\n",
    "MSE_SR = mean_squared_error(test_y, pred_SR)\n",
    "MSE_SR"
   ]
  },
  {
   "cell_type": "code",
   "execution_count": 58,
   "metadata": {},
   "outputs": [
    {
     "name": "stdout",
     "output_type": "stream",
     "text": [
      "R2_SR: 0.9766\n",
      "R2_SR Ajustat: 0.9764\n"
     ]
    }
   ],
   "source": [
    "# R2\n",
    "residus = pred_SR - test_y\n",
    "R2_SR = 1-residus.var()/test_y.var()\n",
    "print('R2_SR:', round(R2_SR,4))\n",
    "R2_SR_Adj = 1-(1-R2_SR)*(2000-1)/(2000-20-1)\n",
    "print('R2_SR Ajustat:', round(R2_SR_Adj,4))"
   ]
  },
  {
   "cell_type": "markdown",
   "metadata": {},
   "source": [
    "<span style='color:blue;font-size:18px'> <b> Rendiment Ridge Regression </b> </span>"
   ]
  },
  {
   "cell_type": "code",
   "execution_count": 59,
   "metadata": {},
   "outputs": [],
   "source": [
    "# Dataset de prova dels predictors\n",
    "x_test_RR = test_x.copy()"
   ]
  },
  {
   "cell_type": "code",
   "execution_count": 60,
   "metadata": {},
   "outputs": [],
   "source": [
    "# Prediccions\n",
    "pred_RR = model_2.predict(x_test_RR)"
   ]
  },
  {
   "cell_type": "code",
   "execution_count": 61,
   "metadata": {},
   "outputs": [
    {
     "name": "stdout",
     "output_type": "stream",
     "text": [
      "Error Absolut Mig: 7.34 degrees.\n"
     ]
    }
   ],
   "source": [
    "# Error Absolut Mig\n",
    "errors_2 = abs(pred_RR - test_y)\n",
    "print('Error Absolut Mig:', round(np.mean(errors_2), 2), 'degrees.')"
   ]
  },
  {
   "cell_type": "code",
   "execution_count": 62,
   "metadata": {},
   "outputs": [
    {
     "name": "stdout",
     "output_type": "stream",
     "text": [
      "Error Percentual Mig Arctangent: 0.3764\n"
     ]
    }
   ],
   "source": [
    "# Error Percentual Mig Arctangent\n",
    "errors_p_RR = abs((pred_RR - test_y)/test_y)\n",
    "print('Error Percentual Mig Arctangent:', round(np.mean(np.arctan(errors_p_RR)),4))"
   ]
  },
  {
   "cell_type": "code",
   "execution_count": 63,
   "metadata": {},
   "outputs": [
    {
     "data": {
      "text/plain": [
       "101.0898708173139"
      ]
     },
     "execution_count": 63,
     "metadata": {},
     "output_type": "execute_result"
    }
   ],
   "source": [
    "# Mean Squared Error\n",
    "MSE_RR = mean_squared_error(test_y, pred_RR)\n",
    "MSE_RR"
   ]
  },
  {
   "cell_type": "code",
   "execution_count": 64,
   "metadata": {},
   "outputs": [
    {
     "name": "stdout",
     "output_type": "stream",
     "text": [
      "R2_RR: 0.9766\n",
      "R2_RR Ajustat: 0.9763\n"
     ]
    }
   ],
   "source": [
    "# R2\n",
    "R2_RR = model_2.score(x_test_RR, test_y)\n",
    "print('R2_RR:', round(R2_RR,4))\n",
    "R2_RR_Adj = 1-(1-R2_RR)*(2000-1)/(2000-20-1)\n",
    "print('R2_RR Ajustat:', round(R2_RR_Adj,4))"
   ]
  },
  {
   "cell_type": "markdown",
   "metadata": {},
   "source": [
    "<span style='color:blue;font-size:18px'> <b> Rendiment LASSO </b> </span>"
   ]
  },
  {
   "cell_type": "code",
   "execution_count": 65,
   "metadata": {},
   "outputs": [],
   "source": [
    "# Dataset de prova dels predictors\n",
    "x_test_L = test_x.copy()\n",
    "x_test_L = x_test_L.drop(x_test_L.columns[4:],axis=1)"
   ]
  },
  {
   "cell_type": "code",
   "execution_count": 66,
   "metadata": {},
   "outputs": [],
   "source": [
    "# Prediccions\n",
    "pred_L = model_3.predict(x_test_L)"
   ]
  },
  {
   "cell_type": "code",
   "execution_count": 67,
   "metadata": {},
   "outputs": [
    {
     "name": "stdout",
     "output_type": "stream",
     "text": [
      "Error Absolut Mig: 7.71 degrees.\n"
     ]
    }
   ],
   "source": [
    "# Error Absolut Mig\n",
    "errors_L = abs(pred_L - test_y)\n",
    "print('Error Absolut Mig:', round(np.mean(errors_L), 2), 'degrees.')"
   ]
  },
  {
   "cell_type": "code",
   "execution_count": 68,
   "metadata": {},
   "outputs": [
    {
     "name": "stdout",
     "output_type": "stream",
     "text": [
      "Error Percentual Mig Arctangent: 0.3885\n"
     ]
    }
   ],
   "source": [
    "# Error Percentual Mig Arctangent\n",
    "errors_p_L = abs((pred_L - test_y)/test_y)\n",
    "print('Error Percentual Mig Arctangent:', round(np.mean(np.arctan(errors_p_L)),4))"
   ]
  },
  {
   "cell_type": "code",
   "execution_count": 69,
   "metadata": {},
   "outputs": [
    {
     "data": {
      "text/plain": [
       "110.043138567327"
      ]
     },
     "execution_count": 69,
     "metadata": {},
     "output_type": "execute_result"
    }
   ],
   "source": [
    "# Mean Squared Error\n",
    "MSE_L = mean_squared_error(test_y, pred_L)\n",
    "MSE_L"
   ]
  },
  {
   "cell_type": "code",
   "execution_count": 70,
   "metadata": {},
   "outputs": [
    {
     "name": "stdout",
     "output_type": "stream",
     "text": [
      "R2_L: 0.9745\n",
      "R2_L Ajustat: 0.9745\n"
     ]
    }
   ],
   "source": [
    "# R2\n",
    "R2_L = model_3.score(x_test_L, test_y)\n",
    "print('R2_L:', round(R2_L,4))\n",
    "R2_L_Adj = 1-(1-R2_L)*(2000-1)/(2000-4-1)\n",
    "print('R2_L Ajustat:', round(R2_L_Adj,4))"
   ]
  },
  {
   "cell_type": "markdown",
   "metadata": {},
   "source": [
    "<span style='color:blue;font-size:15px'> \n",
    "    <p> Els models Stepwise i Ridge tenen l'error absolut mig més baix, que és de 7,34. </p> \n",
    "    <p> El model Ridge té l'error percentual mig arctanget més baix, que és de 0,3764. </p>\n",
    "    <p> El model Stepwise té el MSE més baix, que és de 101,0591. </p>\n",
    "    <p> Els model Stepwise té el R2 ajustat més alt, que és de 0,9764. </p>\n",
    "</span>"
   ]
  },
  {
   "cell_type": "markdown",
   "metadata": {},
   "source": [
    "## Exercici 5\n",
    "__Realitza algun procés d’enginyeria de variables per millorar-ne la predicció.__"
   ]
  },
  {
   "cell_type": "code",
   "execution_count": 71,
   "metadata": {},
   "outputs": [],
   "source": [
    "x_train_norm = x_train.copy()"
   ]
  },
  {
   "cell_type": "code",
   "execution_count": 72,
   "metadata": {},
   "outputs": [],
   "source": [
    "# Función que calcula el mínimo y el máximo de las columnas de un dataset, y luego las normaliza (valores entre 0 y 1)\n",
    "def norm_dataset(dataset):\n",
    "    for i in dataset.columns:\n",
    "        if dataset[i].dtypes != 'O':\n",
    "            value_min = min(dataset[i])\n",
    "            value_max = max(dataset[i])\n",
    "            dataset[i] = (dataset[i] - value_min) / (value_max - value_min)\n",
    "            df = dataset\n",
    "    return df"
   ]
  },
  {
   "cell_type": "code",
   "execution_count": 73,
   "metadata": {},
   "outputs": [],
   "source": [
    "X_norm_SR = norm_dataset(x_train_norm)"
   ]
  },
  {
   "cell_type": "code",
   "execution_count": 74,
   "metadata": {
    "scrolled": false
   },
   "outputs": [
    {
     "name": "stdout",
     "output_type": "stream",
     "text": [
      "                            OLS Regression Results                            \n",
      "==============================================================================\n",
      "Dep. Variable:               ArrDelay   R-squared:                       0.965\n",
      "Model:                            OLS   Adj. R-squared:                  0.965\n",
      "Method:                 Least Squares   F-statistic:                 1.102e+04\n",
      "Date:                Wed, 19 May 2021   Prob (F-statistic):               0.00\n",
      "Time:                        17:16:23   Log-Likelihood:                -30089.\n",
      "No. Observations:                8000   AIC:                         6.022e+04\n",
      "Df Residuals:                    7979   BIC:                         6.037e+04\n",
      "Df Model:                          20                                         \n",
      "Covariance Type:            nonrobust                                         \n",
      "==============================================================================\n",
      "                 coef    std err          t      P>|t|      [0.025      0.975]\n",
      "------------------------------------------------------------------------------\n",
      "const          4.5879      0.584      7.859      0.000       3.444       5.732\n",
      "DepDelay     788.3660      1.798    438.351      0.000     784.841     791.892\n",
      "TaxiIn       213.6233      5.007     42.667      0.000     203.809     223.438\n",
      "TaxiOut      235.1300      2.195    107.116      0.000     230.827     239.433\n",
      "VelMitja     -87.0459      1.947    -44.708      0.000     -90.862     -83.229\n",
      "Trim_1         0.8903      0.279      3.187      0.001       0.343       1.438\n",
      "Trim_2         2.0289      0.286      7.091      0.000       1.468       2.590\n",
      "UC_9E         -3.5314      0.754     -4.681      0.000      -5.010      -2.053\n",
      "UC_AA          3.7786      0.441      8.561      0.000       2.913       4.644\n",
      "UC_AQ         18.4340      5.224      3.528      0.000       8.193      28.675\n",
      "UC_AS          5.2375      0.830      6.313      0.000       3.611       6.864\n",
      "UC_CO         -3.8817      0.575     -6.748      0.000      -5.009      -2.754\n",
      "UC_DL         -2.2340      0.517     -4.323      0.000      -3.247      -1.221\n",
      "UC_F9          5.7512      1.103      5.215      0.000       3.589       7.913\n",
      "UC_FL          4.0700      0.635      6.409      0.000       2.825       5.315\n",
      "UC_HA          9.2220      1.917      4.811      0.000       5.465      12.980\n",
      "UC_OH         -4.0570      0.764     -5.312      0.000      -5.554      -2.560\n",
      "UC_UA          2.9504      0.479      6.153      0.000       2.010       3.890\n",
      "UC_WN          5.7193      0.352     16.263      0.000       5.030       6.409\n",
      "UC_XE         -1.3079      0.534     -2.450      0.014      -2.354      -0.261\n",
      "UC_YV         -1.6786      0.655     -2.563      0.010      -2.963      -0.395\n",
      "==============================================================================\n",
      "Omnibus:                      953.970   Durbin-Watson:                   2.004\n",
      "Prob(Omnibus):                  0.000   Jarque-Bera (JB):             9503.618\n",
      "Skew:                           0.141   Prob(JB):                         0.00\n",
      "Kurtosis:                       8.332   Cond. No.                         51.5\n",
      "==============================================================================\n",
      "\n",
      "Notes:\n",
      "[1] Standard Errors assume that the covariance matrix of the errors is correctly specified.\n"
     ]
    }
   ],
   "source": [
    "model_1_norm = model_est(X_norm_SR,train_y,const=True)\n",
    "print(model_1_norm.summary())"
   ]
  },
  {
   "cell_type": "code",
   "execution_count": 75,
   "metadata": {},
   "outputs": [],
   "source": [
    "x_train_est = x_train.copy()"
   ]
  },
  {
   "cell_type": "code",
   "execution_count": 76,
   "metadata": {},
   "outputs": [],
   "source": [
    "# Función que calcula la media y desviación tipo de cada columna, y luego calcula sus valores estandarizados\n",
    "def est_dataset(dataset):\n",
    "    for i in dataset.columns:\n",
    "        if dataset[i].dtypes != 'O':\n",
    "            media = dataset[i].mean()\n",
    "            desv = dataset[i].std()\n",
    "            dataset[i] = (dataset[i] - media) / desv\n",
    "    return dataset"
   ]
  },
  {
   "cell_type": "code",
   "execution_count": 77,
   "metadata": {},
   "outputs": [],
   "source": [
    "X_est_SR = est_dataset(x_train)"
   ]
  },
  {
   "cell_type": "code",
   "execution_count": 78,
   "metadata": {
    "scrolled": false
   },
   "outputs": [
    {
     "name": "stdout",
     "output_type": "stream",
     "text": [
      "                            OLS Regression Results                            \n",
      "==============================================================================\n",
      "Dep. Variable:               ArrDelay   R-squared:                       0.965\n",
      "Model:                            OLS   Adj. R-squared:                  0.965\n",
      "Method:                 Least Squares   F-statistic:                 1.102e+04\n",
      "Date:                Wed, 19 May 2021   Prob (F-statistic):               0.00\n",
      "Time:                        17:16:29   Log-Likelihood:                -30089.\n",
      "No. Observations:                8000   AIC:                         6.022e+04\n",
      "Df Residuals:                    7979   BIC:                         6.037e+04\n",
      "Df Model:                          20                                         \n",
      "Covariance Type:            nonrobust                                         \n",
      "==============================================================================\n",
      "                 coef    std err          t      P>|t|      [0.025      0.975]\n",
      "------------------------------------------------------------------------------\n",
      "const         43.0134      0.116    369.299      0.000      42.785      43.242\n",
      "DepDelay      51.5675      0.118    438.351      0.000      51.337      51.798\n",
      "TaxiIn         5.1050      0.120     42.667      0.000       4.870       5.340\n",
      "TaxiOut       12.9786      0.121    107.116      0.000      12.741      13.216\n",
      "VelMitja      -5.5438      0.124    -44.708      0.000      -5.787      -5.301\n",
      "Trim_1         0.4040      0.127      3.187      0.001       0.156       0.653\n",
      "Trim_2         0.8965      0.126      7.091      0.000       0.649       1.144\n",
      "UC_9E         -0.5620      0.120     -4.681      0.000      -0.797      -0.327\n",
      "UC_AA          1.1184      0.131      8.561      0.000       0.862       1.374\n",
      "UC_AQ          0.4121      0.117      3.528      0.000       0.183       0.641\n",
      "UC_AS          0.7554      0.120      6.313      0.000       0.521       0.990\n",
      "UC_CO         -0.8380      0.124     -6.748      0.000      -1.081      -0.595\n",
      "UC_DL         -0.5438      0.126     -4.323      0.000      -0.790      -0.297\n",
      "UC_F9          0.6198      0.119      5.215      0.000       0.387       0.853\n",
      "UC_FL          0.7807      0.122      6.409      0.000       0.542       1.019\n",
      "UC_HA          0.5637      0.117      4.811      0.000       0.334       0.793\n",
      "UC_OH         -0.6365      0.120     -5.312      0.000      -0.871      -0.402\n",
      "UC_UA          0.7848      0.128      6.153      0.000       0.535       1.035\n",
      "UC_WN          2.2376      0.138     16.263      0.000       1.968       2.507\n",
      "UC_XE         -0.3020      0.123     -2.450      0.014      -0.544      -0.060\n",
      "UC_YV         -0.3106      0.121     -2.563      0.010      -0.548      -0.073\n",
      "==============================================================================\n",
      "Omnibus:                      953.970   Durbin-Watson:                   2.004\n",
      "Prob(Omnibus):                  0.000   Jarque-Bera (JB):             9503.618\n",
      "Skew:                           0.141   Prob(JB):                         0.00\n",
      "Kurtosis:                       8.332   Cond. No.                         2.18\n",
      "==============================================================================\n",
      "\n",
      "Notes:\n",
      "[1] Standard Errors assume that the covariance matrix of the errors is correctly specified.\n"
     ]
    }
   ],
   "source": [
    "model_1_est = model_est(X_est_SR,train_y,const=True)\n",
    "print(model_1_est.summary())"
   ]
  },
  {
   "cell_type": "markdown",
   "metadata": {},
   "source": [
    "## Exercici 6\n",
    "__No utilitzis la variable DepDelay a l’hora de fer prediccions.__"
   ]
  },
  {
   "cell_type": "markdown",
   "metadata": {},
   "source": [
    "<span style='color:blue;font-size:18px'> <b> Model 1: Stepwise Regression </b> </span>"
   ]
  },
  {
   "cell_type": "code",
   "execution_count": 79,
   "metadata": {},
   "outputs": [
    {
     "data": {
      "text/html": [
       "<div>\n",
       "<style scoped>\n",
       "    .dataframe tbody tr th:only-of-type {\n",
       "        vertical-align: middle;\n",
       "    }\n",
       "\n",
       "    .dataframe tbody tr th {\n",
       "        vertical-align: top;\n",
       "    }\n",
       "\n",
       "    .dataframe thead th {\n",
       "        text-align: right;\n",
       "    }\n",
       "</style>\n",
       "<table border=\"1\" class=\"dataframe\">\n",
       "  <thead>\n",
       "    <tr style=\"text-align: right;\">\n",
       "      <th></th>\n",
       "      <th>TaxiIn</th>\n",
       "      <th>TaxiOut</th>\n",
       "      <th>VelMitja</th>\n",
       "      <th>Trim_1</th>\n",
       "      <th>Trim_2</th>\n",
       "      <th>Trim_3</th>\n",
       "      <th>Trim_4</th>\n",
       "      <th>UC_9E</th>\n",
       "      <th>UC_AA</th>\n",
       "      <th>UC_AQ</th>\n",
       "      <th>UC_AS</th>\n",
       "      <th>UC_B6</th>\n",
       "      <th>UC_CO</th>\n",
       "      <th>UC_DL</th>\n",
       "      <th>UC_EV</th>\n",
       "      <th>UC_F9</th>\n",
       "      <th>UC_FL</th>\n",
       "      <th>UC_HA</th>\n",
       "      <th>UC_MQ</th>\n",
       "      <th>UC_NW</th>\n",
       "      <th>UC_OH</th>\n",
       "      <th>UC_OO</th>\n",
       "      <th>UC_UA</th>\n",
       "      <th>UC_US</th>\n",
       "      <th>UC_WN</th>\n",
       "      <th>UC_XE</th>\n",
       "      <th>UC_YV</th>\n",
       "    </tr>\n",
       "  </thead>\n",
       "  <tbody>\n",
       "    <tr>\n",
       "      <th>131399</th>\n",
       "      <td>9.0</td>\n",
       "      <td>18.0</td>\n",
       "      <td>519.48</td>\n",
       "      <td>1</td>\n",
       "      <td>0</td>\n",
       "      <td>0</td>\n",
       "      <td>0</td>\n",
       "      <td>0</td>\n",
       "      <td>0</td>\n",
       "      <td>0</td>\n",
       "      <td>0</td>\n",
       "      <td>0</td>\n",
       "      <td>0</td>\n",
       "      <td>0</td>\n",
       "      <td>0</td>\n",
       "      <td>0</td>\n",
       "      <td>0</td>\n",
       "      <td>0</td>\n",
       "      <td>0</td>\n",
       "      <td>1</td>\n",
       "      <td>0</td>\n",
       "      <td>0</td>\n",
       "      <td>0</td>\n",
       "      <td>0</td>\n",
       "      <td>0</td>\n",
       "      <td>0</td>\n",
       "      <td>0</td>\n",
       "    </tr>\n",
       "    <tr>\n",
       "      <th>1221172</th>\n",
       "      <td>13.0</td>\n",
       "      <td>11.0</td>\n",
       "      <td>431.83</td>\n",
       "      <td>0</td>\n",
       "      <td>0</td>\n",
       "      <td>1</td>\n",
       "      <td>0</td>\n",
       "      <td>1</td>\n",
       "      <td>0</td>\n",
       "      <td>0</td>\n",
       "      <td>0</td>\n",
       "      <td>0</td>\n",
       "      <td>0</td>\n",
       "      <td>0</td>\n",
       "      <td>0</td>\n",
       "      <td>0</td>\n",
       "      <td>0</td>\n",
       "      <td>0</td>\n",
       "      <td>0</td>\n",
       "      <td>0</td>\n",
       "      <td>0</td>\n",
       "      <td>0</td>\n",
       "      <td>0</td>\n",
       "      <td>0</td>\n",
       "      <td>0</td>\n",
       "      <td>0</td>\n",
       "      <td>0</td>\n",
       "    </tr>\n",
       "    <tr>\n",
       "      <th>650342</th>\n",
       "      <td>8.0</td>\n",
       "      <td>9.0</td>\n",
       "      <td>390.00</td>\n",
       "      <td>0</td>\n",
       "      <td>1</td>\n",
       "      <td>0</td>\n",
       "      <td>0</td>\n",
       "      <td>0</td>\n",
       "      <td>0</td>\n",
       "      <td>0</td>\n",
       "      <td>0</td>\n",
       "      <td>0</td>\n",
       "      <td>0</td>\n",
       "      <td>0</td>\n",
       "      <td>0</td>\n",
       "      <td>0</td>\n",
       "      <td>0</td>\n",
       "      <td>0</td>\n",
       "      <td>0</td>\n",
       "      <td>0</td>\n",
       "      <td>0</td>\n",
       "      <td>0</td>\n",
       "      <td>0</td>\n",
       "      <td>0</td>\n",
       "      <td>1</td>\n",
       "      <td>0</td>\n",
       "      <td>0</td>\n",
       "    </tr>\n",
       "    <tr>\n",
       "      <th>447821</th>\n",
       "      <td>4.0</td>\n",
       "      <td>26.0</td>\n",
       "      <td>461.79</td>\n",
       "      <td>1</td>\n",
       "      <td>0</td>\n",
       "      <td>0</td>\n",
       "      <td>0</td>\n",
       "      <td>0</td>\n",
       "      <td>0</td>\n",
       "      <td>0</td>\n",
       "      <td>0</td>\n",
       "      <td>0</td>\n",
       "      <td>0</td>\n",
       "      <td>0</td>\n",
       "      <td>0</td>\n",
       "      <td>0</td>\n",
       "      <td>0</td>\n",
       "      <td>0</td>\n",
       "      <td>0</td>\n",
       "      <td>0</td>\n",
       "      <td>0</td>\n",
       "      <td>0</td>\n",
       "      <td>1</td>\n",
       "      <td>0</td>\n",
       "      <td>0</td>\n",
       "      <td>0</td>\n",
       "      <td>0</td>\n",
       "    </tr>\n",
       "    <tr>\n",
       "      <th>125634</th>\n",
       "      <td>6.0</td>\n",
       "      <td>21.0</td>\n",
       "      <td>318.26</td>\n",
       "      <td>1</td>\n",
       "      <td>0</td>\n",
       "      <td>0</td>\n",
       "      <td>0</td>\n",
       "      <td>0</td>\n",
       "      <td>0</td>\n",
       "      <td>0</td>\n",
       "      <td>0</td>\n",
       "      <td>0</td>\n",
       "      <td>0</td>\n",
       "      <td>0</td>\n",
       "      <td>0</td>\n",
       "      <td>0</td>\n",
       "      <td>0</td>\n",
       "      <td>0</td>\n",
       "      <td>1</td>\n",
       "      <td>0</td>\n",
       "      <td>0</td>\n",
       "      <td>0</td>\n",
       "      <td>0</td>\n",
       "      <td>0</td>\n",
       "      <td>0</td>\n",
       "      <td>0</td>\n",
       "      <td>0</td>\n",
       "    </tr>\n",
       "  </tbody>\n",
       "</table>\n",
       "</div>"
      ],
      "text/plain": [
       "         TaxiIn  TaxiOut  VelMitja  Trim_1  Trim_2  Trim_3  Trim_4  UC_9E  \\\n",
       "131399      9.0     18.0    519.48       1       0       0       0      0   \n",
       "1221172    13.0     11.0    431.83       0       0       1       0      1   \n",
       "650342      8.0      9.0    390.00       0       1       0       0      0   \n",
       "447821      4.0     26.0    461.79       1       0       0       0      0   \n",
       "125634      6.0     21.0    318.26       1       0       0       0      0   \n",
       "\n",
       "         UC_AA  UC_AQ  UC_AS  UC_B6  UC_CO  UC_DL  UC_EV  UC_F9  UC_FL  UC_HA  \\\n",
       "131399       0      0      0      0      0      0      0      0      0      0   \n",
       "1221172      0      0      0      0      0      0      0      0      0      0   \n",
       "650342       0      0      0      0      0      0      0      0      0      0   \n",
       "447821       0      0      0      0      0      0      0      0      0      0   \n",
       "125634       0      0      0      0      0      0      0      0      0      0   \n",
       "\n",
       "         UC_MQ  UC_NW  UC_OH  UC_OO  UC_UA  UC_US  UC_WN  UC_XE  UC_YV  \n",
       "131399       0      1      0      0      0      0      0      0      0  \n",
       "1221172      0      0      0      0      0      0      0      0      0  \n",
       "650342       0      0      0      0      0      0      1      0      0  \n",
       "447821       0      0      0      0      1      0      0      0      0  \n",
       "125634       1      0      0      0      0      0      0      0      0  "
      ]
     },
     "execution_count": 79,
     "metadata": {},
     "output_type": "execute_result"
    }
   ],
   "source": [
    "# Es crea una copia de les dades d'entrenament dels predictors\n",
    "x_train_DD = train_x.copy()\n",
    "x_train_DD = x_train_DD.drop('DepDelay',axis=1)\n",
    "x_train_DD.head()"
   ]
  },
  {
   "cell_type": "code",
   "execution_count": 80,
   "metadata": {},
   "outputs": [
    {
     "name": "stdout",
     "output_type": "stream",
     "text": [
      "                            OLS Regression Results                            \n",
      "==============================================================================\n",
      "Dep. Variable:               ArrDelay   R-squared:                       0.126\n",
      "Model:                            OLS   Adj. R-squared:                  0.124\n",
      "Method:                 Least Squares   F-statistic:                     46.10\n",
      "Date:                Wed, 19 May 2021   Prob (F-statistic):          1.53e-211\n",
      "Time:                        17:16:36   Log-Likelihood:                -42965.\n",
      "No. Observations:                8000   AIC:                         8.598e+04\n",
      "Df Residuals:                    7974   BIC:                         8.616e+04\n",
      "Df Model:                          25                                         \n",
      "Covariance Type:            nonrobust                                         \n",
      "==============================================================================\n",
      "                 coef    std err          t      P>|t|      [0.025      0.975]\n",
      "------------------------------------------------------------------------------\n",
      "const         38.5848      2.977     12.960      0.000      32.749      44.421\n",
      "TaxiIn         1.4620      0.104     13.991      0.000       1.257       1.667\n",
      "TaxiOut        1.0144      0.041     24.657      0.000       0.934       1.095\n",
      "VelMitja      -0.0921      0.008    -11.122      0.000      -0.108      -0.076\n",
      "Trim_1         9.9808      1.185      8.425      0.000       7.658      12.303\n",
      "Trim_2        10.1831      1.241      8.207      0.000       7.751      12.615\n",
      "Trim_3         9.0722      1.298      6.990      0.000       6.528      11.616\n",
      "Trim_4         9.3487      1.324      7.061      0.000       6.753      11.944\n",
      "UC_9E         -0.5585      3.753     -0.149      0.882      -7.916       6.799\n",
      "UC_AA          6.8715      2.347      2.927      0.003       2.270      11.473\n",
      "UC_AQ         -0.7314     24.866     -0.029      0.977     -49.475      48.012\n",
      "UC_AS         10.1844      4.082      2.495      0.013       2.183      18.186\n",
      "UC_B6          8.3782      3.600      2.327      0.020       1.320      15.436\n",
      "UC_CO         -3.5382      2.937     -1.205      0.228      -9.296       2.220\n",
      "UC_DL         -4.1418      2.682     -1.544      0.123      -9.399       1.115\n",
      "UC_EV          7.8606      3.069      2.561      0.010       1.844      13.877\n",
      "UC_F9         -4.2903      5.345     -0.803      0.422     -14.768       6.188\n",
      "UC_FL          5.8466      3.199      1.828      0.068      -0.424      12.118\n",
      "UC_HA        -11.9559      9.173     -1.303      0.192     -29.938       6.026\n",
      "UC_MQ         -1.2915      2.555     -0.506      0.613      -6.299       3.716\n",
      "UC_NW         -6.0851      3.185     -1.911      0.056     -12.328       0.158\n",
      "UC_OH          1.2802      3.795      0.337      0.736      -6.160       8.720\n",
      "UC_OO          5.4999      2.571      2.139      0.032       0.461      10.539\n",
      "UC_UA         13.2006      2.509      5.261      0.000       8.282      18.119\n",
      "UC_US         -4.3136      2.820     -1.530      0.126      -9.842       1.215\n",
      "UC_WN         -0.0041      1.975     -0.002      0.998      -3.875       3.867\n",
      "UC_XE          4.6135      2.762      1.671      0.095      -0.800      10.027\n",
      "UC_YV         11.7599      3.303      3.561      0.000       5.286      18.234\n",
      "==============================================================================\n",
      "Omnibus:                     5733.314   Durbin-Watson:                   2.003\n",
      "Prob(Omnibus):                  0.000   Jarque-Bera (JB):           133787.259\n",
      "Skew:                           3.179   Prob(JB):                         0.00\n",
      "Kurtosis:                      21.998   Cond. No.                     2.64e+16\n",
      "==============================================================================\n",
      "\n",
      "Notes:\n",
      "[1] Standard Errors assume that the covariance matrix of the errors is correctly specified.\n",
      "[2] The smallest eigenvalue is 1.88e-24. This might indicate that there are\n",
      "strong multicollinearity problems or that the design matrix is singular.\n"
     ]
    }
   ],
   "source": [
    "# S'aplica la regressió amb totes les variables\n",
    "results = model_est(x_train_DD,train_y,const=True)\n",
    "print(results.summary())"
   ]
  },
  {
   "cell_type": "code",
   "execution_count": 81,
   "metadata": {},
   "outputs": [
    {
     "name": "stdout",
     "output_type": "stream",
     "text": [
      "                            OLS Regression Results                            \n",
      "==============================================================================\n",
      "Dep. Variable:               ArrDelay   R-squared:                       0.125\n",
      "Model:                            OLS   Adj. R-squared:                  0.124\n",
      "Method:                 Least Squares   F-statistic:                     76.32\n",
      "Date:                Wed, 19 May 2021   Prob (F-statistic):          9.21e-219\n",
      "Time:                        17:16:39   Log-Likelihood:                -42969.\n",
      "No. Observations:                8000   AIC:                         8.597e+04\n",
      "Df Residuals:                    7984   BIC:                         8.608e+04\n",
      "Df Model:                          15                                         \n",
      "Covariance Type:            nonrobust                                         \n",
      "==============================================================================\n",
      "                 coef    std err          t      P>|t|      [0.025      0.975]\n",
      "------------------------------------------------------------------------------\n",
      "const         38.4742      2.746     14.011      0.000      33.091      43.857\n",
      "TaxiIn         1.4282      0.102     13.959      0.000       1.228       1.629\n",
      "TaxiOut        0.9983      0.040     25.119      0.000       0.920       1.076\n",
      "VelMitja      -0.0956      0.008    -11.945      0.000      -0.111      -0.080\n",
      "Trim_1        10.0312      1.149      8.729      0.000       7.779      12.284\n",
      "Trim_2        10.1622      1.201      8.462      0.000       7.808      12.516\n",
      "Trim_3         8.9688      1.267      7.080      0.000       6.486      11.452\n",
      "Trim_4         9.3119      1.291      7.212      0.000       6.781      11.843\n",
      "UC_AA          9.0941      2.068      4.398      0.000       5.041      13.148\n",
      "UC_AS         12.1750      4.080      2.984      0.003       4.177      20.173\n",
      "UC_B6         10.5933      3.543      2.990      0.003       3.648      17.539\n",
      "UC_EV          9.8114      2.948      3.328      0.001       4.033      15.590\n",
      "UC_FL          7.9324      3.090      2.567      0.010       1.876      13.989\n",
      "UC_OO          7.3065      2.364      3.091      0.002       2.673      11.940\n",
      "UC_UA         15.3722      2.272      6.765      0.000      10.918      19.827\n",
      "UC_XE          6.6580      2.589      2.572      0.010       1.584      11.732\n",
      "UC_YV         13.6425      3.216      4.242      0.000       7.338      19.947\n",
      "==============================================================================\n",
      "Omnibus:                     5707.121   Durbin-Watson:                   2.003\n",
      "Prob(Omnibus):                  0.000   Jarque-Bera (JB):           131025.761\n",
      "Skew:                           3.164   Prob(JB):                         0.00\n",
      "Kurtosis:                      21.789   Cond. No.                     3.16e+18\n",
      "==============================================================================\n",
      "\n",
      "Notes:\n",
      "[1] Standard Errors assume that the covariance matrix of the errors is correctly specified.\n",
      "[2] The smallest eigenvalue is 1.31e-28. This might indicate that there are\n",
      "strong multicollinearity problems or that the design matrix is singular.\n"
     ]
    }
   ],
   "source": [
    "# S'elimina totes les variables amb p-valor major a 0.05\n",
    "x_train_DD = x_train_DD.drop(['UC_WN','UC_AQ','UC_9E','UC_OH','UC_MQ','UC_F9','UC_CO','UC_HA','UC_DL','UC_US','UC_NW'],axis=1)\n",
    "model_1_DD = model_est(x_train_DD,train_y,const=True)\n",
    "print(model_1_DD.summary())"
   ]
  },
  {
   "cell_type": "markdown",
   "metadata": {},
   "source": [
    "<span style='color:blue;font-size:18px'> <b> Model 2: Ridge Regression </b> </span>"
   ]
  },
  {
   "cell_type": "code",
   "execution_count": 82,
   "metadata": {},
   "outputs": [],
   "source": [
    "# Es crea una copia de les dades d'entrenament dels predictors\n",
    "x_train_DD = train_x.copy()\n",
    "x_train_DD = x_train_DD.drop('DepDelay',axis=1)"
   ]
  },
  {
   "cell_type": "code",
   "execution_count": 83,
   "metadata": {},
   "outputs": [],
   "source": [
    "# Es genera el model d'entrenament mitjançant la Ridge Regression (S'utilitzen totes les variables)\n",
    "model_2_DD = RidgeCV()\n",
    "model_2_DD = model_2_DD.fit(x_train_DD, train_y)"
   ]
  },
  {
   "cell_type": "code",
   "execution_count": 84,
   "metadata": {},
   "outputs": [
    {
     "name": "stdout",
     "output_type": "stream",
     "text": [
      "50.51138508538594\n"
     ]
    }
   ],
   "source": [
    "# Intercept del model\n",
    "print(model_2_DD.intercept_)"
   ]
  },
  {
   "cell_type": "code",
   "execution_count": 85,
   "metadata": {},
   "outputs": [
    {
     "name": "stdout",
     "output_type": "stream",
     "text": [
      "[  1.46097516   1.01460951  -0.09231934   0.33970016   0.5397014\n",
      "  -0.57056383  -0.30883773  -2.64229463   4.61331195  -0.83402252\n",
      "   7.53691391   5.91705334  -5.59594985  -6.21942306   5.48842825\n",
      "  -5.86142755   3.5286457  -10.61888974  -3.44647726  -8.0298589\n",
      "  -0.88957265   3.22600774  10.82261109  -6.36910814  -2.19681469\n",
      "   2.35096246   9.21990456]\n"
     ]
    }
   ],
   "source": [
    "# Intercept del model\n",
    "print(model_2_DD.coef_)"
   ]
  },
  {
   "cell_type": "markdown",
   "metadata": {},
   "source": [
    "<span style='color:blue;font-size:18px'> <b> Model 3: LASSO </b> </span>"
   ]
  },
  {
   "cell_type": "code",
   "execution_count": 86,
   "metadata": {},
   "outputs": [
    {
     "data": {
      "text/html": [
       "<div>\n",
       "<style scoped>\n",
       "    .dataframe tbody tr th:only-of-type {\n",
       "        vertical-align: middle;\n",
       "    }\n",
       "\n",
       "    .dataframe tbody tr th {\n",
       "        vertical-align: top;\n",
       "    }\n",
       "\n",
       "    .dataframe thead th {\n",
       "        text-align: right;\n",
       "    }\n",
       "</style>\n",
       "<table border=\"1\" class=\"dataframe\">\n",
       "  <thead>\n",
       "    <tr style=\"text-align: right;\">\n",
       "      <th></th>\n",
       "      <th>TaxiIn</th>\n",
       "      <th>TaxiOut</th>\n",
       "      <th>VelMitja</th>\n",
       "    </tr>\n",
       "  </thead>\n",
       "  <tbody>\n",
       "    <tr>\n",
       "      <th>131399</th>\n",
       "      <td>9.0</td>\n",
       "      <td>18.0</td>\n",
       "      <td>519.48</td>\n",
       "    </tr>\n",
       "    <tr>\n",
       "      <th>1221172</th>\n",
       "      <td>13.0</td>\n",
       "      <td>11.0</td>\n",
       "      <td>431.83</td>\n",
       "    </tr>\n",
       "    <tr>\n",
       "      <th>650342</th>\n",
       "      <td>8.0</td>\n",
       "      <td>9.0</td>\n",
       "      <td>390.00</td>\n",
       "    </tr>\n",
       "    <tr>\n",
       "      <th>447821</th>\n",
       "      <td>4.0</td>\n",
       "      <td>26.0</td>\n",
       "      <td>461.79</td>\n",
       "    </tr>\n",
       "    <tr>\n",
       "      <th>125634</th>\n",
       "      <td>6.0</td>\n",
       "      <td>21.0</td>\n",
       "      <td>318.26</td>\n",
       "    </tr>\n",
       "  </tbody>\n",
       "</table>\n",
       "</div>"
      ],
      "text/plain": [
       "         TaxiIn  TaxiOut  VelMitja\n",
       "131399      9.0     18.0    519.48\n",
       "1221172    13.0     11.0    431.83\n",
       "650342      8.0      9.0    390.00\n",
       "447821      4.0     26.0    461.79\n",
       "125634      6.0     21.0    318.26"
      ]
     },
     "execution_count": 86,
     "metadata": {},
     "output_type": "execute_result"
    }
   ],
   "source": [
    "# Es crea una copia de les dades d'entrenament dels predictors\n",
    "x_train_DD = train_x.copy()\n",
    "x_train_DD = x_train_DD.iloc[:,1:4]\n",
    "x_train_DD.head()"
   ]
  },
  {
   "cell_type": "code",
   "execution_count": 87,
   "metadata": {},
   "outputs": [],
   "source": [
    "# Es genera el model d'entrenament mitjançant la LASSO (només variables numèriques)\n",
    "model_3_DD = LassoCV()\n",
    "model_3_DD = model_3_DD.fit(x_train_DD, train_y)"
   ]
  },
  {
   "cell_type": "code",
   "execution_count": 88,
   "metadata": {},
   "outputs": [
    {
     "name": "stdout",
     "output_type": "stream",
     "text": [
      "51.426856239837896\n"
     ]
    }
   ],
   "source": [
    "# Intercept del model\n",
    "print(model_3_DD.intercept_)"
   ]
  },
  {
   "cell_type": "code",
   "execution_count": 89,
   "metadata": {},
   "outputs": [
    {
     "name": "stdout",
     "output_type": "stream",
     "text": [
      "[ 1.38746596  1.01098511 -0.09186316]\n"
     ]
    }
   ],
   "source": [
    "# Intercept del model\n",
    "print(model_3_DD.coef_)"
   ]
  }
 ],
 "metadata": {
  "kernelspec": {
   "display_name": "Python 3",
   "language": "python",
   "name": "python3"
  },
  "language_info": {
   "codemirror_mode": {
    "name": "ipython",
    "version": 3
   },
   "file_extension": ".py",
   "mimetype": "text/x-python",
   "name": "python",
   "nbconvert_exporter": "python",
   "pygments_lexer": "ipython3",
   "version": "3.8.5"
  }
 },
 "nbformat": 4,
 "nbformat_minor": 4
}
